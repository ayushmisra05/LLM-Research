{
 "cells": [
  {
   "cell_type": "markdown",
   "metadata": {},
   "source": [
    "##### Load Package"
   ]
  },
  {
   "cell_type": "code",
   "execution_count": 5,
   "metadata": {},
   "outputs": [],
   "source": [
    "from langchain_openai import OpenAI\n",
    "from langchain.prompts import PromptTemplate\n",
    "\n",
    "import os\n",
    "from dotenv import load_dotenv"
   ]
  },
  {
   "cell_type": "markdown",
   "metadata": {},
   "source": [
    "##### Set Up Environment "
   ]
  },
  {
   "cell_type": "code",
   "execution_count": 7,
   "metadata": {},
   "outputs": [],
   "source": [
    "load_dotenv(dotenv_path = \"../Key/.env\")\n",
    "OPENAI_API_KEY = os.environ.get(\"OPENAI_API_KEY\")\n",
    "os.environ[\"OPENAI_API_KEY\"] = OPENAI_API_KEY"
   ]
  },
  {
   "cell_type": "markdown",
   "metadata": {},
   "source": [
    "# What Is Langchain \n",
    "* langchain is a framework that allows you to build applications using LLMs \\\n",
    "  langchain provides a standard interfact for interacting with many different LLMs. \\\n",
    "  there are lots of LLM providers(OpenAI, Cohere, Hugging Face) \\\n",
    "  langchain connect LLM with many tools such as google search, Wikipedia "
   ]
  },
  {
   "cell_type": "markdown",
   "metadata": {},
   "source": [
    "# Use LLM To Ask"
   ]
  },
  {
   "cell_type": "code",
   "execution_count": 8,
   "metadata": {},
   "outputs": [],
   "source": [
    "# Initialize A Model\n",
    "llm = OpenAI(model_name = \"gpt-3.5-turbo-instruct\",\n",
    "             temperature = 0.7\n",
    "             # * temperature is the amount of randomness between 0 and 2\n",
    "             #   higher values will make the output more random \n",
    "             #   while lower value make it more focused and deterministic\n",
    "             #   if temperature is set to 0, we get the same result over and over again\n",
    "             )"
   ]
  },
  {
   "cell_type": "code",
   "execution_count": 9,
   "metadata": {},
   "outputs": [
    {
     "data": {
      "text/plain": [
       "\"\\n\\n1. Phillips Curve Theory: This theory suggests an inverse relationship between unemployment and inflation. It states that as unemployment decreases, inflation increases and vice versa. This is because as the economy approaches full employment, workers have more bargaining power to demand higher wages, which leads to an increase in overall prices.\\n\\n2. Cost-Push Theory: This theory posits that inflation is caused by rising production costs, such as wages and raw materials. As unemployment decreases and the labor market tightens, wages increase, leading to higher production costs and ultimately inflation.\\n\\n3. Demand-Pull Theory: This theory suggests that inflation is caused by excessive demand for goods and services, which leads to an increase in prices. As unemployment decreases and more people have jobs and disposable income, there is a higher demand for goods and services, leading to inflation.\\n\\n4. Modern Monetary Theory (MMT): According to MMT, inflation is not caused by the relationship between unemployment and inflation, but rather by the government's ability to control the money supply. MMT argues that as long as there is unused productive capacity in the economy, the government can increase spending without causing inflation.\\n\\n5. Rational Expectations Theory: This theory proposes that people's expectations about future inflation play a crucial role in determining the relationship between unemployment\""
      ]
     },
     "execution_count": 9,
     "metadata": {},
     "output_type": "execute_result"
    }
   ],
   "source": [
    "llm.invoke(\"What are some theories about the relationship between unemployment and inflation?\")"
   ]
  },
  {
   "cell_type": "markdown",
   "metadata": {},
   "source": [
    "# Use PromptTemplate"
   ]
  },
  {
   "cell_type": "markdown",
   "metadata": {},
   "source": [
    "## PromptTemplate()"
   ]
  },
  {
   "cell_type": "code",
   "execution_count": null,
   "metadata": {},
   "outputs": [],
   "source": [
    "llm = OpenAI(model_name = \"gpt-3.5-turbo-instruct\",\n",
    "             temperature = 0.7)"
   ]
  },
  {
   "cell_type": "code",
   "execution_count": 11,
   "metadata": {},
   "outputs": [
    {
     "name": "stdout",
     "output_type": "stream",
     "text": [
      "input_variables=['object_1', 'object_2'] template='what are some theories about the relationship between {object_1} and {object_2}'\n",
      "what are some theories about the relationship between unemployment and inflation\n"
     ]
    }
   ],
   "source": [
    "prompt_template = PromptTemplate(\n",
    "    template = \"what are some theories about the relationship between {object_1} and {object_2}\",\n",
    "    input_variables = [\"object_1\", \"object_2\"]\n",
    ")\n",
    "\n",
    "prompt = prompt_template.format(object_1 = \"unemployment\", object_2 = \"inflation\")\n",
    "\n",
    "print(prompt_template)\n",
    "print(prompt)"
   ]
  },
  {
   "cell_type": "code",
   "execution_count": 11,
   "metadata": {},
   "outputs": [
    {
     "data": {
      "text/plain": [
       "\"\\n\\n1. Phillips Curve: This economic theory states that there is an inverse relationship between unemployment and inflation. As unemployment decreases, inflation increases and vice versa. This is because as the economy reaches full employment, workers have more bargaining power and can demand higher wages, leading to an increase in prices.\\n\\n2. Natural Rate of Unemployment: This theory suggests that there is a natural or equilibrium rate of unemployment in the economy, below which inflation will start to rise. When unemployment falls below this level, inflation will increase as firms compete for a limited pool of workers and wages rise.\\n\\n3. Wage-Price Spiral: According to this theory, the relationship between unemployment and inflation is a self-reinforcing cycle. As unemployment decreases, wages increase, leading to higher production costs for businesses. In order to maintain their profit margins, businesses raise prices, leading to inflation. This, in turn, leads to workers demanding even higher wages, continuing the cycle.\\n\\n4. Adaptive Expectations: This theory proposes that individuals base their current expectations of inflation on past experience. As unemployment decreases and inflation increases, workers will expect higher wages to compensate for the rising cost of living. This can lead to a rise in inflation as workers' expectations become self-fulfilling.\\n\\n5. Rational Expectations:\""
      ]
     },
     "execution_count": 11,
     "metadata": {},
     "output_type": "execute_result"
    }
   ],
   "source": [
    "llm.invoke(prompt)"
   ]
  },
  {
   "cell_type": "markdown",
   "metadata": {},
   "source": [
    "## PromptTemplate.from_template()"
   ]
  },
  {
   "cell_type": "code",
   "execution_count": 6,
   "metadata": {},
   "outputs": [],
   "source": [
    "llm = OpenAI(model_name = \"gpt-3.5-turbo-instruct\",\n",
    "             temperature = 0.7)"
   ]
  },
  {
   "cell_type": "code",
   "execution_count": 9,
   "metadata": {},
   "outputs": [
    {
     "name": "stdout",
     "output_type": "stream",
     "text": [
      "what are some theories about the relationship between unemployment and inflation\n"
     ]
    }
   ],
   "source": [
    "prompt_template = PromptTemplate.from_template(\n",
    "    \"what are some theories about the relationship between {object_1} and {object_2}\"\n",
    ")\n",
    "\n",
    "prompt = prompt_template.format(object_1 = \"unemployment\", object_2 = \"inflation\")\n",
    "\n",
    "print(prompt)"
   ]
  },
  {
   "cell_type": "code",
   "execution_count": 12,
   "metadata": {},
   "outputs": [
    {
     "data": {
      "text/plain": [
       "\"\\n\\n1. Phillips Curve Theory: This theory explains the inverse relationship between unemployment and inflation. It suggests that when unemployment is low, inflation tends to be high and vice versa. This is because when there is low unemployment, workers have more bargaining power and can demand higher wages, leading to increased consumer spending and higher prices.\\n\\n2. Expectations Theory: This theory states that inflation is largely influenced by people's expectations of future price increases. When unemployment is low, people expect inflation to rise, so they may demand higher wages and businesses may increase prices in anticipation of higher costs. This can lead to a self-perpetuating cycle of inflation and unemployment.\\n\\n3. Natural Rate of Unemployment Theory: According to this theory, there is a natural rate of unemployment in an economy that is not affected by inflation. When unemployment falls below this natural rate, inflation will increase as businesses struggle to find workers and are forced to increase wages and prices.\\n\\n4. Cost-Push Inflation Theory: This theory suggests that increases in the cost of production, such as higher wages or raw material costs, can lead to inflation. When unemployment is low, there is a higher demand for labor, which can drive up wages and production costs, leading to inflation.\\n\\n5. Structural Unemployment Theory: This theory\""
      ]
     },
     "execution_count": 12,
     "metadata": {},
     "output_type": "execute_result"
    }
   ],
   "source": [
    "llm.invoke(prompt)"
   ]
  },
  {
   "cell_type": "code",
   "execution_count": null,
   "metadata": {},
   "outputs": [],
   "source": []
  }
 ],
 "metadata": {
  "kernelspec": {
   "display_name": "Python 3",
   "language": "python",
   "name": "python3"
  },
  "language_info": {
   "codemirror_mode": {
    "name": "ipython",
    "version": 3
   },
   "file_extension": ".py",
   "mimetype": "text/x-python",
   "name": "python",
   "nbconvert_exporter": "python",
   "pygments_lexer": "ipython3",
   "version": "3.12.2"
  }
 },
 "nbformat": 4,
 "nbformat_minor": 2
}
