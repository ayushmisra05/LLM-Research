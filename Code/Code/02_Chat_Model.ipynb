{
 "cells": [
  {
   "cell_type": "markdown",
   "metadata": {},
   "source": [
    "##### Load Package"
   ]
  },
  {
   "cell_type": "code",
   "execution_count": 1,
   "metadata": {},
   "outputs": [],
   "source": [
    "from langchain_openai import ChatOpenAI\n",
    "from langchain_core.prompts import ChatPromptTemplate\n",
    "from langchain_core.messages import SystemMessage\n",
    "from langchain_core.messages import HumanMessage\n",
    "from langchain.prompts import HumanMessagePromptTemplate\n",
    "\n",
    "\n",
    "from langchain_core.output_parsers import StrOutputParser\n",
    "\n",
    "from dotenv import load_dotenv\n",
    "import os"
   ]
  },
  {
   "cell_type": "markdown",
   "metadata": {},
   "source": [
    "##### Set Up Environment"
   ]
  },
  {
   "cell_type": "code",
   "execution_count": 3,
   "metadata": {},
   "outputs": [],
   "source": [
    "load_dotenv(dotenv_path = \"../Key/.env\")\n",
    "OPENAI_API_KEY = os.environ.get(\"OPENAI_API_KEY\")\n",
    "os.environ[\"OPENAI_API_KEY\"] = OPENAI_API_KEY"
   ]
  },
  {
   "cell_type": "markdown",
   "metadata": {},
   "source": [
    "# What Is Chat \n",
    "* chat message is like text but specified with a message type \\\n",
    "  l1: system \\\n",
    "  &emsp; system message is background context \\\n",
    "  l2: human \\\n",
    "  &emsp; human message is to represent the user \\\n",
    "  l3: ai \\\n",
    "  &emsp; ai message is to represent the ai response "
   ]
  },
  {
   "cell_type": "markdown",
   "metadata": {},
   "source": [
    "# ChatPromptTemplate"
   ]
  },
  {
   "cell_type": "markdown",
   "metadata": {},
   "source": [
    "## Pass Key-Value-Pair-Like Messages"
   ]
  },
  {
   "cell_type": "code",
   "execution_count": 4,
   "metadata": {},
   "outputs": [],
   "source": [
    "chat = ChatOpenAI()\n",
    "# * langchain's chatopenai chat model class is roughly equivalent to the openai client "
   ]
  },
  {
   "cell_type": "code",
   "execution_count": 13,
   "metadata": {},
   "outputs": [
    {
     "name": "stdout",
     "output_type": "stream",
     "text": [
      "[SystemMessage(content='you are an translator that translate english to franch'), HumanMessage(content='i love you')]\n"
     ]
    },
    {
     "data": {
      "text/plain": [
       "AIMessage(content=\"Je t'aime\")"
      ]
     },
     "execution_count": 13,
     "metadata": {},
     "output_type": "execute_result"
    }
   ],
   "source": [
    "prompt_template = ChatPromptTemplate.from_messages([\n",
    "    (\"system\", \"you are an translator that translate {input_language} to {output_language}\"),\n",
    "    (\"human\", \"{user_input}\"),\n",
    "    ]\n",
    ")\n",
    "# * we pass key-value-pair-like messages\n",
    "\n",
    "prompt = prompt_template.format_messages(input_language = \"english\", \n",
    "                                         output_language = \"franch\",\n",
    "                                         user_input = 'i love you')\n",
    "\n",
    "print(prompt)\n",
    "\n",
    "chat.invoke(prompt)"
   ]
  },
  {
   "cell_type": "markdown",
   "metadata": {},
   "source": [
    "## Pass Instance Of Message Template"
   ]
  },
  {
   "cell_type": "code",
   "execution_count": 15,
   "metadata": {},
   "outputs": [
    {
     "name": "stdout",
     "output_type": "stream",
     "text": [
      "[SystemMessage(content='you are an translator'), HumanMessage(content=\"translate 'i love you' from english to franch\")]\n"
     ]
    },
    {
     "data": {
      "text/plain": [
       "AIMessage(content='\"I love you\" translates to \"je t\\'aime\" in French.')"
      ]
     },
     "execution_count": 15,
     "metadata": {},
     "output_type": "execute_result"
    }
   ],
   "source": [
    "prompt_template = ChatPromptTemplate.from_messages([\n",
    "    SystemMessage(content = \"you are an translator\"),\n",
    "    HumanMessagePromptTemplate.from_template(\"translate '{user_input}' from {input_language} to {output_language}\")\n",
    "    ]\n",
    ")\n",
    "# * in addition to using the key-value-pair-like messages, we can pass in an instance of message template\n",
    "\n",
    "\n",
    "prompt = prompt_template.format_messages(input_language = \"english\", \n",
    "                                         output_language = \"franch\",\n",
    "                                         user_input = 'i love you')\n",
    "\n",
    "print(prompt)\n",
    "\n",
    "chat.invoke(prompt)"
   ]
  },
  {
   "cell_type": "code",
   "execution_count": 22,
   "metadata": {},
   "outputs": [
    {
     "name": "stdout",
     "output_type": "stream",
     "text": [
      "System: you are a teacher analyzing student's performance\n",
      "Human: i get 78.\n",
      "Human: i get 45.\n",
      "Human: i get 88.\n",
      "Human: \n",
      "                 what score does cathy get?\n",
      "                 what socre does bod get?\n",
      "                 \n"
     ]
    },
    {
     "data": {
      "text/plain": [
       "AIMessage(content='System: Based on the scores you provided, Cathy gets 78 and Bob gets 45.')"
      ]
     },
     "execution_count": 22,
     "metadata": {},
     "output_type": "execute_result"
    }
   ],
   "source": [
    "prompt_template = ChatPromptTemplate.from_messages([\n",
    "    SystemMessage(content = \"you are a teacher analyzing student's performance\"),\n",
    "    HumanMessage(content = \"i get 78.\", \n",
    "                 id = \"alice\"),\n",
    "    HumanMessage(content = \"i get 45.\", \n",
    "                 id = \"bob\"),\n",
    "    HumanMessage(content = \"i get 88.\", \n",
    "                 id = \"cathy\"),\n",
    "    HumanMessage(content = '''\n",
    "                 what score does cathy get?\n",
    "                 what socre does bod get?\n",
    "                 '''\n",
    "                )                           \n",
    "    ]\n",
    ")\n",
    "\n",
    "\n",
    "prompt = prompt_template.format()\n",
    "\n",
    "print(prompt)\n",
    "\n",
    "\n",
    "chat.invoke(prompt)"
   ]
  }
 ],
 "metadata": {
  "kernelspec": {
   "display_name": "Python 3 (ipykernel)",
   "language": "python",
   "name": "python3"
  },
  "language_info": {
   "codemirror_mode": {
    "name": "ipython",
    "version": 3
   },
   "file_extension": ".py",
   "mimetype": "text/x-python",
   "name": "python",
   "nbconvert_exporter": "python",
   "pygments_lexer": "ipython3",
   "version": "3.12.2"
  }
 },
 "nbformat": 4,
 "nbformat_minor": 2
}
