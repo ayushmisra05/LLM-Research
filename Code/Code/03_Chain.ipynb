{
 "cells": [
  {
   "cell_type": "markdown",
   "metadata": {},
   "source": [
    "##### Load Package"
   ]
  },
  {
   "cell_type": "code",
   "execution_count": 1,
   "metadata": {},
   "outputs": [],
   "source": [
    "from langchain_openai import OpenAI\n",
    "from langchain.prompts import PromptTemplate\n",
    "from langchain.chains import LLMChain\n",
    "from langchain.chains import SimpleSequentialChain\n",
    "from langchain.chains import SequentialChain\n",
    "\n",
    "import os\n",
    "from dotenv import load_dotenv"
   ]
  },
  {
   "cell_type": "markdown",
   "metadata": {},
   "source": [
    "##### Set Up Environment "
   ]
  },
  {
   "cell_type": "code",
   "execution_count": 2,
   "metadata": {},
   "outputs": [],
   "source": [
    "load_dotenv(dotenv_path = \"../Key/.env\")\n",
    "OPENAI_API_KEY = os.environ.get(\"OPENAI_API_KEY\")\n",
    "os.environ[\"OPENAI_API_KEY\"] = OPENAI_API_KEY"
   ]
  },
  {
   "cell_type": "markdown",
   "metadata": {},
   "source": [
    "# Build A Chain"
   ]
  },
  {
   "cell_type": "code",
   "execution_count": 3,
   "metadata": {},
   "outputs": [],
   "source": [
    "llm = OpenAI(model_name = \"gpt-3.5-turbo-instruct\",\n",
    "             temperature = 0.7)"
   ]
  },
  {
   "cell_type": "code",
   "execution_count": null,
   "metadata": {},
   "outputs": [],
   "source": [
    "prompt_template = PromptTemplate(\n",
    "    template = \"what are some theories about the relationship between {object_1} and {object_2}\",\n",
    "    input_variables = [\"object_1\", \"object_2\"]\n",
    ")"
   ]
  },
  {
   "cell_type": "code",
   "execution_count": null,
   "metadata": {},
   "outputs": [],
   "source": [
    "chain = LLMChain(llm = llm,\n",
    "                 prompt = prompt_template)"
   ]
  },
  {
   "cell_type": "code",
   "execution_count": null,
   "metadata": {},
   "outputs": [
    {
     "data": {
      "text/plain": [
       "{'object_1': 'decreasing in rate',\n",
       " 'object_2': 'deflation',\n",
       " 'text': '\\n1. Quantity Theory of Money: This theory suggests that a decrease in the money supply will lead to a decrease in the general price level, resulting in deflation. As the money supply decreases, there is less money available for consumers to spend, leading to a decrease in demand and prices.\\n\\n2. Keynesian Theory: According to this theory, a decrease in the rate of economic growth or a recession can lead to a decrease in prices and deflation. This is because during times of slow economic growth, businesses may reduce their prices to stimulate demand and increase sales.\\n\\n3. Fisher Effect: This theory proposes that a decrease in interest rates can lead to deflation. Lower interest rates can stimulate borrowing and spending, increasing the money supply and causing prices to rise. Conversely, a decrease in interest rates can reduce borrowing and spending, leading to a decrease in prices and deflation.\\n\\n4. Debt-Deflation Theory: This theory suggests that a decrease in the rate of inflation can lead to deflation due to an increase in the real burden of debt. As prices decrease, the value of assets also decreases, making it more difficult for borrowers to repay their debts. This can lead to a decrease in spending and a further decrease in prices.\\n\\n5. Expectations Theory: According to'}"
      ]
     },
     "metadata": {},
     "output_type": "display_data"
    }
   ],
   "source": [
    "chain.invoke({\"object_1\": \"decreasing in rate\", \n",
    "              \"object_2\": \"deflation\"})"
   ]
  },
  {
   "cell_type": "code",
   "execution_count": null,
   "metadata": {},
   "outputs": [
    {
     "data": {
      "text/plain": [
       "'\\n\\n1. Quantity Theory of Money: This theory states that the decrease in the money supply leads to a decrease in aggregate demand, which in turn leads to a decrease in prices. As prices decrease, the purchasing power of money increases, creating a deflationary environment.\\n\\n2. Keynesian Theory: According to this theory, a decrease in interest rates causes people to save less and spend more, leading to an increase in aggregate demand and a rise in prices. On the other hand, a decrease in interest rates leads to a decrease in spending and a decrease in prices, resulting in deflation.\\n\\n3. Fisher Effect: The Fisher effect suggests that a decrease in the nominal interest rate (the stated interest rate) leads to a decrease in the real interest rate (the interest rate adjusted for inflation). As the real interest rate decreases, borrowing becomes cheaper, leading to an increase in consumption and investment, which can ultimately lead to an increase in prices and inflation.\\n\\n4. The Velocity of Money: This theory suggests that a decrease in the velocity of money (the rate at which money changes hands in the economy) can lead to deflation. When people hold onto their money and do not spend it, there is less demand for goods and services, causing prices to decrease.\\n\\n5. Expect'"
      ]
     },
     "metadata": {},
     "output_type": "display_data"
    }
   ],
   "source": [
    "llm = OpenAI(model_name = \"gpt-3.5-turbo-instruct\",\n",
    "             temperature = 0.7)\n",
    "\n",
    "\n",
    "prompt_template = PromptTemplate(\n",
    "    template = \"what are some theories about the relationship between {object_1} and {object_2}\",\n",
    "    input_variables = [\"object_1\", \"object_2\"]\n",
    ")\n",
    "\n",
    "\n",
    "chain = prompt_template | llm\n",
    "\n",
    "\n",
    "chain.invoke({\"object_1\": \"decreasing in rate\", \n",
    "              \"object_2\": \"deflation\"})"
   ]
  },
  {
   "cell_type": "markdown",
   "metadata": {},
   "source": [
    "# Build A Sequential Chain"
   ]
  },
  {
   "cell_type": "markdown",
   "metadata": {},
   "source": [
    "## Build A Simple Sequential Chain"
   ]
  },
  {
   "cell_type": "markdown",
   "metadata": {},
   "source": [
    "* now we can string different chain template together \\\n",
    "  the output of the previous chain will automatically be the input of the later chain"
   ]
  },
  {
   "cell_type": "code",
   "execution_count": null,
   "metadata": {},
   "outputs": [],
   "source": [
    "llm = OpenAI(model_name = \"gpt-3.5-turbo-instruct\",\n",
    "             temperature = 0.7)"
   ]
  },
  {
   "cell_type": "code",
   "execution_count": null,
   "metadata": {},
   "outputs": [],
   "source": [
    "prompt_template_name = PromptTemplate(\n",
    "    template = \"I want to open a restaurant for {area} food. suggest a name for this restaurant.\",\n",
    "    input_variables = [\"area\"]\n",
    ")\n",
    "\n",
    "chain_name = LLMChain(llm = llm, prompt = prompt_template_name)\n",
    "\n",
    "\n",
    "prompt_template_food = PromptTemplate(\n",
    "    template = \"suggest some menu items for {restaurant_name}.\",\n",
    "    input_variables = [\"restaurant_name\"]\n",
    ")\n",
    "\n",
    "\n",
    "chain_food = LLMChain(llm = llm, prompt = prompt_template_food)"
   ]
  },
  {
   "cell_type": "code",
   "execution_count": null,
   "metadata": {},
   "outputs": [],
   "source": [
    "chain = SimpleSequentialChain(chains = [chain_name, chain_food], \n",
    "                              verbose= True)"
   ]
  },
  {
   "cell_type": "code",
   "execution_count": null,
   "metadata": {},
   "outputs": [
    {
     "name": "stdout",
     "output_type": "stream",
     "text": [
      "\n",
      "\n",
      "\u001b[1m> Entering new SimpleSequentialChain chain...\u001b[0m\n",
      "\u001b[36;1m\u001b[1;3m\n",
      "\"Golden Dragon Palace\"\u001b[0m\n",
      "\u001b[33;1m\u001b[1;3m\n",
      "\n",
      "1. Appetizers: \n",
      "- Crispy Spring Rolls \n",
      "- Potstickers with Soy Dipping Sauce \n",
      "- Sesame Chicken Skewers \n",
      "- Edamame \n",
      "- Crab Rangoon \n",
      "\n",
      "2. Soup: \n",
      "- Hot and Sour Soup \n",
      "- Wonton Soup \n",
      "- Egg Drop Soup \n",
      "- Miso Soup \n",
      "\n",
      "3. Entrees: \n",
      "- General Tso's Chicken \n",
      "- Kung Pao Shrimp \n",
      "- Beef and Broccoli \n",
      "- Sweet and Sour Pork \n",
      "- Vegetable Lo Mein \n",
      "- Szechuan Tofu \n",
      "\n",
      "4. Noodles and Rice: \n",
      "- Fried Rice (choice of chicken, beef, shrimp, or vegetables) \n",
      "- Singapore Noodles \n",
      "- Pad Thai \n",
      "- Pineapple Fried Rice \n",
      "- Chow Mein \n",
      "\n",
      "5. Seafood: \n",
      "- Honey Walnut Shrimp \n",
      "- Salt and Pepper Calamari \n",
      "- Steamed Fish with Ginger and Scallions \n",
      "- Black Pepper Scallops \n",
      "- Spicy Garlic Prawns \n",
      "\n",
      "6. Vegetarian: \n",
      "- Tofu and Vegetable Stir Fry \n",
      "- Vegetable Dumplings \n",
      "- Ma Po Tofu \n",
      "- Mixed Vegetable Curry \n",
      "- Stir Fried Eggplant \n",
      "\n",
      "7. Chef's Specials: \n",
      "- Peking Duck \n",
      "\u001b[0m\n",
      "\n",
      "\u001b[1m> Finished chain.\u001b[0m\n"
     ]
    },
    {
     "data": {
      "text/plain": [
       "{'input': 'chinese',\n",
       " 'output': \"\\n\\n1. Appetizers: \\n- Crispy Spring Rolls \\n- Potstickers with Soy Dipping Sauce \\n- Sesame Chicken Skewers \\n- Edamame \\n- Crab Rangoon \\n\\n2. Soup: \\n- Hot and Sour Soup \\n- Wonton Soup \\n- Egg Drop Soup \\n- Miso Soup \\n\\n3. Entrees: \\n- General Tso's Chicken \\n- Kung Pao Shrimp \\n- Beef and Broccoli \\n- Sweet and Sour Pork \\n- Vegetable Lo Mein \\n- Szechuan Tofu \\n\\n4. Noodles and Rice: \\n- Fried Rice (choice of chicken, beef, shrimp, or vegetables) \\n- Singapore Noodles \\n- Pad Thai \\n- Pineapple Fried Rice \\n- Chow Mein \\n\\n5. Seafood: \\n- Honey Walnut Shrimp \\n- Salt and Pepper Calamari \\n- Steamed Fish with Ginger and Scallions \\n- Black Pepper Scallops \\n- Spicy Garlic Prawns \\n\\n6. Vegetarian: \\n- Tofu and Vegetable Stir Fry \\n- Vegetable Dumplings \\n- Ma Po Tofu \\n- Mixed Vegetable Curry \\n- Stir Fried Eggplant \\n\\n7. Chef's Specials: \\n- Peking Duck \\n\"}"
      ]
     },
     "metadata": {},
     "output_type": "display_data"
    }
   ],
   "source": [
    "chain.invoke(\"chinese\")"
   ]
  },
  {
   "cell_type": "markdown",
   "metadata": {},
   "source": [
    "## Build Sequential Chain"
   ]
  },
  {
   "cell_type": "code",
   "execution_count": null,
   "metadata": {},
   "outputs": [],
   "source": [
    "llm = OpenAI(model_name = \"gpt-3.5-turbo-instruct\",\n",
    "             temperature = 0.7)"
   ]
  },
  {
   "cell_type": "code",
   "execution_count": null,
   "metadata": {},
   "outputs": [],
   "source": [
    "prompt_template_summary = PromptTemplate(\n",
    "    template = \"\"\"\n",
    "    give me a one sentence summary of this employee's performance review.\n",
    "    {review}\n",
    "    \"\"\",\n",
    "    input_variables = [\"review\"]\n",
    ")\n",
    "\n",
    "chain_summary = LLMChain(llm = llm, prompt= prompt_template_summary, output_key=\"summary\")\n",
    "# * use the output_key to record the intermediate chain\n",
    "\n",
    "\n",
    "prompt_template_weaknesses = PromptTemplate(\n",
    "    template = \"\"\"\n",
    "    identify the key strength of employee in this review summary.\n",
    "    {summary}\n",
    "    \"\"\",\n",
    "    input_variables= [\"summary\"]\n",
    ")\n",
    "\n",
    "chain_weaknesses = LLMChain(llm = llm, prompt = prompt_template_weaknesses, output_key = \"weaknesses\")\n",
    "\n",
    "\n",
    "prompt_template_plan = PromptTemplate(\n",
    "    template = \"\"\"\n",
    "    create a personalized plan to help address these weaknesses.\n",
    "    {weaknesses}\n",
    "    \"\"\",\n",
    "    input_variables = [\"weaknesses\"]\n",
    ")\n",
    "\n",
    "chain_plan = LLMChain(llm = llm, prompt = prompt_template_plan, output_key = \"plan\")\n"
   ]
  },
  {
   "cell_type": "code",
   "execution_count": null,
   "metadata": {},
   "outputs": [],
   "source": [
    "chain = SequentialChain(chains =  [chain_summary, chain_weaknesses, chain_plan],\n",
    "                        input_variables = [\"review\"],\n",
    "                        output_variables = [\"summary\", \"weaknesses\", \"plan\"],\n",
    "                        verbose = True)"
   ]
  },
  {
   "cell_type": "code",
   "execution_count": null,
   "metadata": {},
   "outputs": [
    {
     "name": "stdout",
     "output_type": "stream",
     "text": [
      "\n",
      "\n",
      "\u001b[1m> Entering new SequentialChain chain...\u001b[0m\n",
      "\n",
      "\u001b[1m> Finished chain.\u001b[0m\n"
     ]
    },
    {
     "data": {
      "text/plain": [
       "{'review': 'In the review period, John has shown a need for improvement in public speaking and time management. He tends to be reserved during departmental meetings, often hesitating to share valuable insights verbally, which limits his visibility and impact within the team. Additionally, while John meets most deadlines, there are instances where his tasks could be prioritized more effectively, allowing for smoother workflow management and less dependency on last-minute efforts. Enhancing these skills will not only increase his contributions to the team but also foster his professional development.',\n",
       " 'summary': \"\\nJohn's performance review highlights areas for improvement in public speaking and time management, as he tends to be reserved in meetings and could benefit from better prioritization of tasks.\",\n",
       " 'weaknesses': '\\nThe key strength of John as mentioned in this review summary is his ability to receive constructive feedback and willingness to work on his weaknesses.',\n",
       " 'plan': '\\nSome potential strategies that could be included in a personalized plan for John could include: \\n\\n1. Identifying specific areas of weakness: It would be important to pinpoint the exact areas where John struggles and needs improvement. This could include skills such as time management, communication, or attention to detail.\\n\\n2. Setting specific, achievable goals: Once the weaknesses have been identified, it would be beneficial to set clear and measurable goals for each area of improvement. For example, John could aim to improve his time management by completing tasks within a specified timeframe.\\n\\n3. Utilizing available resources: John can take advantage of resources such as workshops, online courses, or mentorship programs to improve his skills and knowledge in areas of weakness. This could provide him with new strategies and techniques to overcome his weaknesses.\\n\\n4. Creating a support system: Having a support system can greatly aid in addressing weaknesses. John could seek guidance and advice from colleagues, friends, or mentors who have strengths in areas where he wants to improve. They can provide valuable insights and help keep him accountable.\\n\\n5. Practicing and seeking feedback: Improvement comes with practice and feedback. John can actively practice the skills he wants to improve and seek feedback from his colleagues or supervisor. This feedback can help him understand his progress and identify areas'}"
      ]
     },
     "metadata": {},
     "output_type": "display_data"
    }
   ],
   "source": [
    "employee_review = \"In the review period, John has shown a need for improvement in public speaking and time management. He tends to be reserved during departmental meetings, often hesitating to share valuable insights verbally, which limits his visibility and impact within the team. Additionally, while John meets most deadlines, there are instances where his tasks could be prioritized more effectively, allowing for smoother workflow management and less dependency on last-minute efforts. Enhancing these skills will not only increase his contributions to the team but also foster his professional development.\"\n",
    "\n",
    "chain.invoke(employee_review)"
   ]
  },
  {
   "cell_type": "code",
   "execution_count": null,
   "metadata": {},
   "outputs": [],
   "source": []
  }
 ],
 "metadata": {
  "kernelspec": {
   "display_name": "Python 3",
   "language": "python",
   "name": "python3"
  },
  "language_info": {
   "codemirror_mode": {
    "name": "ipython",
    "version": 3
   },
   "file_extension": ".py",
   "mimetype": "text/x-python",
   "name": "python",
   "nbconvert_exporter": "python",
   "pygments_lexer": "ipython3",
   "version": "3.12.2"
  }
 },
 "nbformat": 4,
 "nbformat_minor": 2
}
