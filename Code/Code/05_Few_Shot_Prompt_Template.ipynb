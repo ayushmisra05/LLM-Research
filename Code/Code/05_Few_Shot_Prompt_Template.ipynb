{
 "cells": [
  {
   "cell_type": "markdown",
   "metadata": {},
   "source": [
    "##### Load Package"
   ]
  },
  {
   "cell_type": "code",
   "execution_count": 3,
   "metadata": {},
   "outputs": [],
   "source": [
    "from langchain_openai import ChatOpenAI\n",
    "\n",
    "from langchain.prompts.few_shot import FewShotPromptTemplate\n",
    "from langchain.prompts.prompt import PromptTemplate\n",
    "from langchain.prompts import ChatPromptTemplate\n",
    "from langchain.prompts import FewShotChatMessagePromptTemplate\n",
    "\n",
    "import os\n",
    "from dotenv import load_dotenv"
   ]
  },
  {
   "cell_type": "markdown",
   "metadata": {},
   "source": [
    "##### Set Up Environment "
   ]
  },
  {
   "cell_type": "code",
   "execution_count": 4,
   "metadata": {},
   "outputs": [],
   "source": [
    "load_dotenv(dotenv_path = \"../Key/.env\")\n",
    "OPENAI_API_KEY = os.environ.get(\"OPENAI_API_KEY\")\n",
    "os.environ[\"OPENAI_API_KEY\"] = OPENAI_API_KEY"
   ]
  },
  {
   "cell_type": "markdown",
   "metadata": {},
   "source": [
    "# Use FewShotPromptTemplate"
   ]
  },
  {
   "cell_type": "markdown",
   "metadata": {},
   "source": [
    "## Initialize An Engine"
   ]
  },
  {
   "cell_type": "code",
   "execution_count": 7,
   "metadata": {},
   "outputs": [],
   "source": [
    "chat = ChatOpenAI()"
   ]
  },
  {
   "cell_type": "markdown",
   "metadata": {},
   "source": [
    "## Prepre Examples"
   ]
  },
  {
   "cell_type": "code",
   "execution_count": 8,
   "metadata": {},
   "outputs": [],
   "source": [
    "examples = [\n",
    "    {\"event\": \"the CEO of apple changed.\",\n",
    "     \"reaction\": \"the stock price of apple decrease.\"},\n",
    "    {\"event\": \"the CFO of apple changed.\",\n",
    "     \"reaction\": \"the stock price of apple decrease.\"},\n",
    "    {\"event\": \"the product of apple innovated.\",\n",
    "     \"reaction\": \"the stock price of apple increase.\"},\n",
    "]"
   ]
  },
  {
   "cell_type": "markdown",
   "metadata": {},
   "source": [
    "## Add Examples Into FewShotPromptTemplate"
   ]
  },
  {
   "cell_type": "code",
   "execution_count": 9,
   "metadata": {},
   "outputs": [
    {
     "name": "stdout",
     "output_type": "stream",
     "text": [
      "\n",
      "    example_event: the CEO of apple changed.\n",
      "    example_reaction: the stock price of apple decrease.\n",
      "    \n",
      "\n",
      "\n",
      "    example_event: the CFO of apple changed.\n",
      "    example_reaction: the stock price of apple decrease.\n",
      "    \n",
      "\n",
      "\n",
      "    example_event: the product of apple innovated.\n",
      "    example_reaction: the stock price of apple increase.\n",
      "    \n",
      "\n",
      "event: The CEO of apple keep the same.\n",
      "content='reaction: The stock price of apple remains stable.' response_metadata={'token_usage': {'completion_tokens': 10, 'prompt_tokens': 85, 'total_tokens': 95}, 'model_name': 'gpt-3.5-turbo', 'system_fingerprint': None, 'finish_reason': 'stop', 'logprobs': None} id='run-10b0c88c-9bfe-471f-bd2e-78ce8f507337-0'\n"
     ]
    }
   ],
   "source": [
    "example_prompt = PromptTemplate(\n",
    "    template = \"\"\"\n",
    "    example_event: {event}\n",
    "    example_reaction: {reaction}\n",
    "    \"\"\",\n",
    "    input_variables = [\"event\", \"reaction\"]\n",
    ")\n",
    "\n",
    "\n",
    "prompt_template = FewShotPromptTemplate(\n",
    "    examples = examples,\n",
    "    example_prompt = example_prompt,\n",
    "    suffix = \"event: {input_event}\",\n",
    "    input_variables = [\"input_event\"]\n",
    "\n",
    ")\n",
    "\n",
    "prompt = prompt_template.format(input_event = \"The CEO of apple keep the same.\")\n",
    "\n",
    "print(prompt)\n",
    "\n",
    "response = chat.invoke(prompt)\n",
    "\n",
    "print(response)"
   ]
  },
  {
   "cell_type": "markdown",
   "metadata": {},
   "source": [
    "# Use FewShotChatMessagePromptTemplate In Chat Model"
   ]
  },
  {
   "cell_type": "code",
   "execution_count": null,
   "metadata": {},
   "outputs": [],
   "source": [
    "chat = ChatOpenAI()"
   ]
  },
  {
   "cell_type": "code",
   "execution_count": null,
   "metadata": {},
   "outputs": [],
   "source": [
    "examples = [\n",
    "    {\"event\": \"the CEO of apple changed.\",\n",
    "     \"reaction\": \"the stock price of apple decrease.\"},\n",
    "    {\"event\": \"the CFO of apple changed.\",\n",
    "     \"reaction\": \"the stock price of apple decrease.\"},\n",
    "    {\"event\": \"the product of apple innovated.\",\n",
    "     \"reaction\": \"the stock price of apple increase.\"},\n",
    "]"
   ]
  },
  {
   "cell_type": "code",
   "execution_count": 10,
   "metadata": {},
   "outputs": [
    {
     "name": "stdout",
     "output_type": "stream",
     "text": [
      "Human: the CEO of apple changed.\n",
      "AI: the stock price of apple decrease.\n",
      "Human: the CFO of apple changed.\n",
      "AI: the stock price of apple decrease.\n",
      "Human: the product of apple innovated.\n",
      "AI: the stock price of apple increase.\n",
      "[SystemMessage(content='you are a stock analyst'), HumanMessage(content='the CEO of apple changed.'), AIMessage(content='the stock price of apple decrease.'), HumanMessage(content='the CFO of apple changed.'), AIMessage(content='the stock price of apple decrease.'), HumanMessage(content='the product of apple innovated.'), AIMessage(content='the stock price of apple increase.'), HumanMessage(content='Apple released a new iPhone model')]\n"
     ]
    },
    {
     "data": {
      "text/plain": [
       "AIMessage(content='the stock price of Apple may increase, as new product releases are typically viewed positively by investors and can drive sales and revenue growth.', response_metadata={'token_usage': {'completion_tokens': 26, 'prompt_tokens': 86, 'total_tokens': 112}, 'model_name': 'gpt-3.5-turbo', 'system_fingerprint': None, 'finish_reason': 'stop', 'logprobs': None}, id='run-db73a08f-594a-4afe-b340-83de544f89d7-0')"
      ]
     },
     "execution_count": 10,
     "metadata": {},
     "output_type": "execute_result"
    }
   ],
   "source": [
    "example_prompt = ChatPromptTemplate.from_messages(\n",
    "    [(\"human\", \"{event}\"),\n",
    "     (\"ai\", \"{reaction}\")\n",
    "    ]\n",
    ")\n",
    "\n",
    "few_shot_prompt = FewShotChatMessagePromptTemplate(\n",
    "    examples = examples,\n",
    "    example_prompt = example_prompt\n",
    ")\n",
    "\n",
    "print(few_shot_prompt.format())\n",
    "\n",
    "\n",
    "prompt_template = ChatPromptTemplate.from_messages(\n",
    "    [\n",
    "        (\"system\", \"you are a stock analyst\"),\n",
    "        few_shot_prompt,\n",
    "        (\"human\", \"{input}\")\n",
    "    ]\n",
    ")\n",
    "\n",
    "prompt = prompt_template.format_messages(input = \"Apple released a new iPhone model\")\n",
    "\n",
    "print(prompt)\n",
    "\n",
    "chat.invoke(prompt)"
   ]
  },
  {
   "cell_type": "markdown",
   "metadata": {},
   "source": []
  },
  {
   "cell_type": "code",
   "execution_count": null,
   "metadata": {},
   "outputs": [],
   "source": []
  }
 ],
 "metadata": {
  "kernelspec": {
   "display_name": "Python 3",
   "language": "python",
   "name": "python3"
  },
  "language_info": {
   "codemirror_mode": {
    "name": "ipython",
    "version": 3
   },
   "file_extension": ".py",
   "mimetype": "text/x-python",
   "name": "python",
   "nbconvert_exporter": "python",
   "pygments_lexer": "ipython3",
   "version": "3.12.2"
  }
 },
 "nbformat": 4,
 "nbformat_minor": 2
}
