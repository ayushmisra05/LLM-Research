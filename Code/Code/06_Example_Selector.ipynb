{
 "cells": [
  {
   "cell_type": "markdown",
   "metadata": {},
   "source": [
    "##### Load Package"
   ]
  },
  {
   "cell_type": "code",
   "execution_count": 3,
   "metadata": {},
   "outputs": [],
   "source": [
    "from langchain_openai import ChatOpenAI\n",
    "\n",
    "from langchain.prompts import FewShotPromptTemplate, PromptTemplate\n",
    "from langchain.prompts import ChatPromptTemplate,FewShotChatMessagePromptTemplate\n",
    "from langchain.prompts.example_selector import SemanticSimilarityExampleSelector\n",
    "from langchain_community.vectorstores import Chroma\n",
    "from langchain.vectorstores import FAISS\n",
    "from langchain_openai import OpenAIEmbeddings\n",
    "from langchain_openai import OpenAI\n",
    "\n",
    "import os\n",
    "from dotenv import load_dotenv"
   ]
  },
  {
   "cell_type": "markdown",
   "metadata": {},
   "source": [
    "##### Set Up Environment "
   ]
  },
  {
   "cell_type": "code",
   "execution_count": 4,
   "metadata": {},
   "outputs": [],
   "source": [
    "load_dotenv(dotenv_path = \"../Key/.env\")\n",
    "OPENAI_API_KEY = os.environ.get(\"OPENAI_API_KEY\")\n",
    "os.environ[\"OPENAI_API_KEY\"] = OPENAI_API_KEY"
   ]
  },
  {
   "cell_type": "markdown",
   "metadata": {},
   "source": [
    "# what Is Example Selector \n",
    "\n",
    "* we want to show llm what we want it to do \\ \n",
    "  one way is to provide examples of how to response in different scenarios \\\n",
    "  however if we have a large list of examples we do not want to throw all those into the prompt \\\n",
    "  some may not fit some may not be relevant \\\n",
    "  so we want to select from a series of examples that allow us to dynamically place in-context information into prompt\n"
   ]
  },
  {
   "cell_type": "markdown",
   "metadata": {},
   "source": [
    "# Incorporate An Example Selector In FewShotPromptTemplate"
   ]
  },
  {
   "cell_type": "markdown",
   "metadata": {},
   "source": [
    "## Initialize Engines"
   ]
  },
  {
   "cell_type": "code",
   "execution_count": 4,
   "metadata": {},
   "outputs": [],
   "source": [
    "llm = OpenAI()\n",
    "embeddings = OpenAIEmbeddings()"
   ]
  },
  {
   "cell_type": "markdown",
   "metadata": {},
   "source": [
    "## Build An Example Selector"
   ]
  },
  {
   "cell_type": "markdown",
   "metadata": {},
   "source": [
    "##### Use SemanticSimilarityExampleSelector.from_examples()"
   ]
  },
  {
   "cell_type": "code",
   "execution_count": 29,
   "metadata": {},
   "outputs": [
    {
     "name": "stdout",
     "output_type": "stream",
     "text": [
      "[{'input': 'driver', 'output': 'car'}, {'input': 'pilot', 'output': 'plane'}]\n",
      "[{'input': 'bird', 'output': 'nest'}, {'input': 'dog', 'output': 'gargen'}]\n"
     ]
    }
   ],
   "source": [
    "# Provide Examples Of A Pair Of Animal And The Place Where This Animial Is Usually Found\n",
    "examples = [\n",
    "    {\"input\": \"pirate\", \"output\": \"ship\"},\n",
    "    {\"input\": \"pilot\", \"output\": \"plane\"},\n",
    "    {\"input\": \"driver\", \"output\": \"car\"},\n",
    "    {\"input\": \"bird\", \"output\": \"nest\"},\n",
    "    {\"input\": \"dog\", \"output\": \"gargen\"}\n",
    "]\n",
    "\n",
    "example_selector = SemanticSimilarityExampleSelector.from_examples(\n",
    "    examples,\n",
    "    embeddings,\n",
    "    FAISS,\n",
    "    k = 2\n",
    "    # * k is the number of examples to select\n",
    ")\n",
    "\n",
    "print(example_selector.select_examples({\"input\": \"student\"}))\n",
    "print(example_selector.select_examples({\"input\": \"duck\"}))"
   ]
  },
  {
   "cell_type": "markdown",
   "metadata": {},
   "source": [
    "##### Use SemanticSimilarityExampleSelector"
   ]
  },
  {
   "cell_type": "code",
   "execution_count": 36,
   "metadata": {},
   "outputs": [
    {
     "name": "stdout",
     "output_type": "stream",
     "text": [
      "['pirate ship', 'pilot plane', 'driver car', 'bird nest', 'dog gargen']\n",
      "[{'input': 'driver', 'output': 'car'}, {'input': 'pilot', 'output': 'plane'}]\n"
     ]
    }
   ],
   "source": [
    "# Provide Examples Of A Pair Of Animal And The Place Where This Animial Is Usually Found\n",
    "examples = [\n",
    "    {\"input\": \"pirate\", \"output\": \"ship\"},\n",
    "    {\"input\": \"pilot\", \"output\": \"plane\"},\n",
    "    {\"input\": \"driver\", \"output\": \"car\"},\n",
    "    {\"input\": \"bird\", \"output\": \"nest\"},\n",
    "    {\"input\": \"dog\", \"output\": \"gargen\"}\n",
    "]\n",
    "\n",
    "\n",
    "to_vectorize = [\" \".join(example.values()) for example in examples]\n",
    "vectorstore = FAISS.from_texts(to_vectorize, embeddings, metadatas=examples)\n",
    "\n",
    "example_selector = SemanticSimilarityExampleSelector(\n",
    "    vectorstore = vectorstore,\n",
    "    k = 2\n",
    ")\n",
    "\n",
    "print(to_vectorize)\n",
    "print(example_selector.select_examples({\"input\": \"student\"}))"
   ]
  },
  {
   "cell_type": "markdown",
   "metadata": {},
   "source": [
    "## Add Example Selector In FewShotPromptTemplate"
   ]
  },
  {
   "cell_type": "code",
   "execution_count": 33,
   "metadata": {},
   "outputs": [
    {
     "name": "stdout",
     "output_type": "stream",
     "text": [
      "give the location an item is usually found in\n",
      "\n",
      "\n",
      "    example input: driver\n",
      "    example output: car\n",
      "    \n",
      "\n",
      "\n",
      "    example input: pilot\n",
      "    example output: plane\n",
      "    \n",
      "\n",
      "\n",
      "    input: student\n",
      "    output: \n",
      "    \n"
     ]
    }
   ],
   "source": [
    "example_prompt = PromptTemplate(\n",
    "    template = \"\"\"\n",
    "    example input: {input}\n",
    "    example output: {output}\n",
    "    \"\"\",\n",
    "    input_variables = [\"input\", \"output\"]\n",
    ")\n",
    "\n",
    "\n",
    "prompt_template = FewShotPromptTemplate(\n",
    "    example_selector = example_selector,\n",
    "    example_prompt = example_prompt,\n",
    "\n",
    "    # Add The Top And Bottom Of The Prompt\n",
    "    prefix = \"give the location an item is usually found in\",\n",
    "    suffix = \"\"\"\n",
    "    input: {noun}\n",
    "    output: \n",
    "    \"\"\",\n",
    "\n",
    "    input_variables = [\"noun\"]\n",
    ")\n",
    "\n",
    "\n",
    "prompt = prompt_template.format(noun = \"student\")\n",
    "\n",
    "print(prompt)\n"
   ]
  },
  {
   "cell_type": "code",
   "execution_count": 26,
   "metadata": {},
   "outputs": [
    {
     "data": {
      "text/plain": [
       "' classroom'"
      ]
     },
     "execution_count": 26,
     "metadata": {},
     "output_type": "execute_result"
    }
   ],
   "source": [
    "llm.invoke(prompt)"
   ]
  },
  {
   "cell_type": "markdown",
   "metadata": {},
   "source": [
    "# Use FewShotChatMessagePromptTemplate In Chat Model"
   ]
  },
  {
   "cell_type": "code",
   "execution_count": 5,
   "metadata": {},
   "outputs": [],
   "source": [
    "chat = ChatOpenAI()"
   ]
  },
  {
   "cell_type": "code",
   "execution_count": 12,
   "metadata": {},
   "outputs": [
    {
     "name": "stdout",
     "output_type": "stream",
     "text": [
      "System: give the location an item is usually found in\n",
      "Human: driver\n",
      "AI: car\n",
      "Human: pilot\n",
      "AI: plane\n",
      "Human: student\n",
      "content='AI: classroom' response_metadata={'token_usage': {'completion_tokens': 3, 'prompt_tokens': 38, 'total_tokens': 41}, 'model_name': 'gpt-3.5-turbo', 'system_fingerprint': None, 'finish_reason': 'stop', 'logprobs': None} id='run-7c381c75-1497-491c-970f-964a4ffa76a5-0'\n"
     ]
    }
   ],
   "source": [
    "examples = [\n",
    "    {\"input\": \"pirate\", \"output\": \"ship\"},\n",
    "    {\"input\": \"pilot\", \"output\": \"plane\"},\n",
    "    {\"input\": \"driver\", \"output\": \"car\"},\n",
    "    {\"input\": \"bird\", \"output\": \"nest\"},\n",
    "    {\"input\": \"dog\", \"output\": \"gargen\"}\n",
    "]\n",
    "\n",
    "\n",
    "\n",
    "example_prompt=ChatPromptTemplate.from_messages(\n",
    "    [(\"human\", \"{input}\"),\n",
    "     (\"ai\", \"{output}\")\n",
    "    ]\n",
    ")\n",
    "\n",
    "\n",
    "example_selector = SemanticSimilarityExampleSelector.from_examples(\n",
    "    examples,\n",
    "    OpenAIEmbeddings(),\n",
    "    FAISS,\n",
    "    k = 2\n",
    ")\n",
    "\n",
    "\n",
    "few_shot_prompt = FewShotChatMessagePromptTemplate(\n",
    "    example_selector = example_selector,\n",
    "    example_prompt = example_prompt\n",
    ")\n",
    "\n",
    "\n",
    "prompt_template = ChatPromptTemplate.from_messages(\n",
    "    [\n",
    "        (\"system\", \"give the location an item is usually found in\"),\n",
    "        few_shot_prompt,\n",
    "        (\"human\", \"{input}\"),\n",
    "    ]\n",
    ")\n",
    "\n",
    "prompt = prompt_template.format(input = \"student\")\n",
    "\n",
    "\n",
    "print(prompt)\n",
    "response = chat.invoke(prompt)\n",
    "print(response)"
   ]
  },
  {
   "cell_type": "code",
   "execution_count": null,
   "metadata": {},
   "outputs": [],
   "source": []
  }
 ],
 "metadata": {
  "kernelspec": {
   "display_name": "Python 3",
   "language": "python",
   "name": "python3"
  },
  "language_info": {
   "codemirror_mode": {
    "name": "ipython",
    "version": 3
   },
   "file_extension": ".py",
   "mimetype": "text/x-python",
   "name": "python",
   "nbconvert_exporter": "python",
   "pygments_lexer": "ipython3",
   "version": "3.12.2"
  }
 },
 "nbformat": 4,
 "nbformat_minor": 2
}
