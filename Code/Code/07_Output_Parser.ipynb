{
 "cells": [
  {
   "cell_type": "markdown",
   "metadata": {},
   "source": [
    "##### Load Package"
   ]
  },
  {
   "cell_type": "code",
   "execution_count": 12,
   "metadata": {},
   "outputs": [],
   "source": [
    "from langchain_openai import ChatOpenAI\n",
    "from langchain.prompts import ChatPromptTemplate\n",
    "from langchain.prompts import PromptTemplate\n",
    "\n",
    "from langchain.output_parsers import ResponseSchema\n",
    "from langchain.output_parsers import StructuredOutputParser\n",
    "\n",
    "from langchain.output_parsers import PydanticOutputParser\n",
    "from pydantic import BaseModel, Field, validator\n",
    "\n",
    "import os\n",
    "from dotenv import load_dotenv"
   ]
  },
  {
   "cell_type": "markdown",
   "metadata": {},
   "source": [
    "##### Set Up Environment "
   ]
  },
  {
   "cell_type": "code",
   "execution_count": 7,
   "metadata": {},
   "outputs": [],
   "source": [
    "load_dotenv(dotenv_path = \"../Key/.env\")\n",
    "OPENAI_API_KEY = os.environ.get(\"OPENAI_API_KEY\")\n",
    "os.environ[\"OPENAI_API_KEY\"] = OPENAI_API_KEY"
   ]
  },
  {
   "cell_type": "markdown",
   "metadata": {},
   "source": [
    "# No Output Parser"
   ]
  },
  {
   "cell_type": "code",
   "execution_count": 8,
   "metadata": {},
   "outputs": [],
   "source": [
    "chat = ChatOpenAI()"
   ]
  },
  {
   "cell_type": "code",
   "execution_count": 9,
   "metadata": {},
   "outputs": [
    {
     "name": "stdout",
     "output_type": "stream",
     "text": [
      "Brand Name: SpeedStride\n",
      "\n",
      "Likelihood of Success: 9/10\n",
      "\n",
      "Reasoning: The name \"SpeedStride\" effectively conveys the idea of running faster while also emphasizing comfort. It is catchy, memorable, and clearly communicates the main benefit of the product. The name is likely to resonate with customers looking for high-performance sneakers for running.\n"
     ]
    }
   ],
   "source": [
    "prompt_template = ChatPromptTemplate.from_template(\n",
    "    '''\n",
    "    You are a master brading consulatant who specializes in naming brands.\n",
    "    You come up with catchy and memorable brand names. \n",
    "    Take the brand description below delimited by triple backticks and use it to create the name for a brand. \n",
    "    brand description: ```{brand_description}```\n",
    "    based on the description give the score of 1-10 for how likely it is to success and provide the reason. \n",
    "    '''\n",
    ")\n",
    "\n",
    "prompt = prompt_template.format_messages(brand_description = \"a sneaker that make running faster and comfortable.\")\n",
    "\n",
    "print(chat.invoke(prompt).content)"
   ]
  },
  {
   "cell_type": "markdown",
   "metadata": {},
   "source": [
    "# StructuredOutputParser"
   ]
  },
  {
   "cell_type": "code",
   "execution_count": 10,
   "metadata": {},
   "outputs": [
    {
     "name": "stdout",
     "output_type": "stream",
     "text": [
      "The output should be a markdown code snippet formatted in the following schema, including the leading and trailing \"```json\" and \"```\":\n",
      "\n",
      "```json\n",
      "{\n",
      "\t\"brand_name\": string  // This is the name of the brand.\n",
      "\t\"likelihood_of_success\": string  // This is an integer score between 1-10.\n",
      "\t\"reasoning\": string  // This is the reasons for the score.\n",
      "}\n",
      "```\n"
     ]
    }
   ],
   "source": [
    "response_schema = [\n",
    "    ResponseSchema(name = \"brand_name\",\n",
    "                   description=\"This is the name of the brand.\"),\n",
    "    ResponseSchema(name = \"likelihood_of_success\",\n",
    "                   description=\"This is an integer score between 1-10.\"),\n",
    "    ResponseSchema(name = \"reasoning\",\n",
    "                   description=\"This is the reasons for the score.\")]\n",
    "\n",
    "output_parser = StructuredOutputParser.from_response_schemas(response_schema)\n",
    "\n",
    "format_instructions = output_parser.get_format_instructions()\n",
    "\n",
    "print(format_instructions)"
   ]
  },
  {
   "cell_type": "code",
   "execution_count": 13,
   "metadata": {},
   "outputs": [
    {
     "name": "stdout",
     "output_type": "stream",
     "text": [
      "[HumanMessage(content='\\n    You are a master brading consulatant who specializes in naming brands.\\n    You come up with catchy and memorable brand names. \\n    Take the brand description below delimited by triple backticks and use it to create the name for a brand. \\n    brand description: ```a sneaker that make running faster and comfortable.```\\n    based on the description give the score of 1-10 for how likely it is to success and provide the reason. \\n\\n    The output should be a markdown code snippet formatted in the following schema, including the leading and trailing \"```json\" and \"```\":\\n\\n```json\\n{\\n\\t\"brand_name\": string  // This is the name of the brand.\\n\\t\"likelihood_of_success\": string  // This is an integer score between 1-10.\\n\\t\"reasoning\": string  // This is the reasons for the score.\\n}\\n``` \\n    ')]\n",
      "```json\n",
      "{\n",
      "\t\"brand_name\": \"SpeedStride\",\n",
      "\t\"likelihood_of_success\": \"8\",\n",
      "\t\"reasoning\": \"The name suggests speed and comfort, which are key features of the sneaker. It is catchy and easy to remember, making it likely to attract customers looking for a fast and comfortable running experience.\"\n",
      "}\n",
      "```\n"
     ]
    }
   ],
   "source": [
    "prompt_template = ChatPromptTemplate.from_template(\n",
    "    '''\n",
    "    You are a master brading consulatant who specializes in naming brands.\n",
    "    You come up with catchy and memorable brand names. \n",
    "    Take the brand description below delimited by triple backticks and use it to create the name for a brand. \n",
    "    brand description: ```{brand_description}```\n",
    "    based on the description give the score of 1-10 for how likely it is to success and provide the reason. \n",
    "\n",
    "    {format_instructions} \n",
    "    '''\n",
    ")\n",
    "\n",
    "prompt = prompt_template.format_messages(brand_description = \"a sneaker that make running faster and comfortable.\",\n",
    "                                         format_instructions = format_instructions)\n",
    "\n",
    "print(prompt)\n",
    "\n",
    "print(chat.invoke(prompt).content)"
   ]
  },
  {
   "cell_type": "code",
   "execution_count": 14,
   "metadata": {},
   "outputs": [
    {
     "name": "stdout",
     "output_type": "stream",
     "text": [
      "\n",
      "    You are a master brading consulatant who specializes in naming brands.\n",
      "    You come up with catchy and memorable brand names. \n",
      "    Take the brand description below delimited by triple backticks and use it to create the name for a brand. \n",
      "    brand description: ```a sneaker that make running faster and comfortable.```\n",
      "    based on the description give the score of 1-10 for how likely it is to success and provide the reason. \n",
      "\n",
      "    The output should be a markdown code snippet formatted in the following schema, including the leading and trailing \"```json\" and \"```\":\n",
      "\n",
      "```json\n",
      "{\n",
      "\t\"brand_name\": string  // This is the name of the brand.\n",
      "\t\"likelihood_of_success\": string  // This is an integer score between 1-10.\n",
      "\t\"reasoning\": string  // This is the reasons for the score.\n",
      "}\n",
      "``` \n",
      "    \n",
      "```json\n",
      "{\n",
      "\t\"brand_name\": \"SpeedStride\",\n",
      "\t\"likelihood_of_success\": \"8\",\n",
      "\t\"reasoning\": \"The name suggests both speed and comfort, which are key factors for a successful running sneaker brand. It is catchy and memorable, making it appealing to potential customers.\"\n",
      "}\n",
      "```\n"
     ]
    }
   ],
   "source": [
    "prompt_template = PromptTemplate(\n",
    "    template = '''\n",
    "    You are a master brading consulatant who specializes in naming brands.\n",
    "    You come up with catchy and memorable brand names. \n",
    "    Take the brand description below delimited by triple backticks and use it to create the name for a brand. \n",
    "    brand description: ```{brand_description}```\n",
    "    based on the description give the score of 1-10 for how likely it is to success and provide the reason. \n",
    "\n",
    "    {format_instructions} \n",
    "    ''',\n",
    "    input_variables= [\"brand_description\"],\n",
    "    partial_variables= {\"format_instructions\": format_instructions}\n",
    ")\n",
    "\n",
    "\n",
    "prompt = prompt_template.format(brand_description = \"a sneaker that make running faster and comfortable.\")\n",
    "\n",
    "print(prompt)\n",
    "\n",
    "print(chat.invoke(prompt).content)"
   ]
  },
  {
   "cell_type": "markdown",
   "metadata": {},
   "source": [
    "# Pydantic Output Parser"
   ]
  },
  {
   "cell_type": "code",
   "execution_count": 20,
   "metadata": {},
   "outputs": [],
   "source": [
    "class BrandInfo(BaseModel):\n",
    "    brand_name: str = Field(description = \"This is the name of the brand.\")\n",
    "    reasoning: str = Field(description = \"This is the reasons for the score.\")\n",
    "    likelihood_of_success: int = Field(description = \"This is an integer score between 1-10.\")\n",
    "\n",
    "    @validator(\"likelihood_of_success\")\n",
    "    def check_score(cls, field):\n",
    "        if field > 10:\n",
    "            raise ValueError(\"Wrong Score\")\n",
    "        return field\n",
    "\n",
    "pydantic_parser = PydanticOutputParser(pydantic_object = BrandInfo)\n",
    "\n",
    "format_instructions = pydantic_parser.get_format_instructions()"
   ]
  },
  {
   "cell_type": "code",
   "execution_count": 21,
   "metadata": {},
   "outputs": [
    {
     "name": "stdout",
     "output_type": "stream",
     "text": [
      "\n",
      "{\n",
      "    \"brand_name\": \"SpeedSole\",\n",
      "    \"reasoning\": \"The name suggests speed and comfort, which aligns well with the description of the sneaker.\",\n",
      "    \"likelihood_of_success\": 8\n",
      "}\n"
     ]
    }
   ],
   "source": [
    "prompt_template = ChatPromptTemplate.from_template(\n",
    "    '''\n",
    "    You are a master brading consulatant who specializes in naming brands.\\\n",
    "    You come up with catchy and memorable brand names. \\\n",
    "    Take the brand description below delimited by triple backticks and use it to create the name for a brand. \\\n",
    "    brand description: ```{brand_description}```\n",
    "    based on the description give the score of 1-10 for how likely it is to success and provide the reason. \n",
    "\n",
    "    {format_instructions} \n",
    "    '''\n",
    ")\n",
    "\n",
    "prompt = prompt_template.format_messages(brand_description = \"a sneaker that make running faster and comfortable.\",\n",
    "                                         format_instructions = format_instructions)\n",
    "\n",
    "print(chat.invoke(prompt).content)"
   ]
  },
  {
   "cell_type": "markdown",
   "metadata": {},
   "source": []
  },
  {
   "cell_type": "code",
   "execution_count": null,
   "metadata": {},
   "outputs": [],
   "source": []
  }
 ],
 "metadata": {
  "kernelspec": {
   "display_name": "base",
   "language": "python",
   "name": "python3"
  },
  "language_info": {
   "codemirror_mode": {
    "name": "ipython",
    "version": 3
   },
   "file_extension": ".py",
   "mimetype": "text/x-python",
   "name": "python",
   "nbconvert_exporter": "python",
   "pygments_lexer": "ipython3",
   "version": "3.12.2"
  }
 },
 "nbformat": 4,
 "nbformat_minor": 2
}
