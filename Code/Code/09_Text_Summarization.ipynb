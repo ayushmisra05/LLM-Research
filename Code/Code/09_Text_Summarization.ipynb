{
 "cells": [
  {
   "cell_type": "markdown",
   "metadata": {},
   "source": [
    "##### Load Package"
   ]
  },
  {
   "cell_type": "code",
   "execution_count": 17,
   "metadata": {},
   "outputs": [],
   "source": [
    "from langchain.chat_models import ChatOpenAI\n",
    "from langchain.prompts import PromptTemplate\n",
    "from langchain_core.prompts import ChatPromptTemplate\n",
    "from langchain.schema import (AIMessage, HumanMessage, SystemMessage)\n",
    "from langchain.prompts import HumanMessagePromptTemplate\n",
    "\n",
    "from langchain.docstore.document import Document\n",
    "from langchain.text_splitter import RecursiveCharacterTextSplitter\n",
    "from langchain.chains.summarize import load_summarize_chain\n",
    "\n",
    "from langchain_community.document_loaders import TextLoader\n",
    "\n",
    "import os\n",
    "from dotenv import load_dotenv"
   ]
  },
  {
   "cell_type": "code",
   "execution_count": 3,
   "metadata": {},
   "outputs": [],
   "source": [
    "load_dotenv(dotenv_path = \"../Key/.env\")\n",
    "OPENAI_API_KEY = os.environ.get(\"OPENAI_API_KEY\")\n",
    "os.environ[\"OPENAI_API_KEY\"] = OPENAI_API_KEY"
   ]
  },
  {
   "cell_type": "markdown",
   "metadata": {},
   "source": [
    "# Summarize Short Speech"
   ]
  },
  {
   "cell_type": "code",
   "execution_count": null,
   "metadata": {},
   "outputs": [],
   "source": [
    "chat = ChatOpenAI()"
   ]
  },
  {
   "cell_type": "code",
   "execution_count": 3,
   "metadata": {},
   "outputs": [],
   "source": [
    "speech = '''\n",
    "Chinese New Year or the Spring Festival (see also § Names) is a festival that celebrates the beginning of a new year on the traditional lunisolar Chinese calendar. Marking the end of winter and the beginning of spring, observances traditionally take place from Chinese New Year's Eve, the evening preceding the first day of the year, to the Lantern Festival, held on the 15th day of the year. The first day of Chinese New Year begins on the new moon that appears between 21 January and 20 February.[a]\n",
    "\n",
    "Chinese New Year is one of the most important holidays in Chinese culture. It has influenced similar celebrations in other cultures, commonly referred to collectively as Lunar New Year, such as the Losar of Tibet, the Tết of Vietnam, the Korean New Year, and the Ryukyu New Year.[3][4][5] It is also celebrated worldwide in regions and countries that house significant Overseas Chinese or Sinophone populations, especially in Southeast Asia. These include Singapore,[6] Brunei, Cambodia, Indonesia, Malaysia, Myanmar,[7] the Philippines,[8] Thailand, and Vietnam. It is also prominent beyond Asia, especially in Australia, Canada, France, Mauritius,[9] New Zealand, Peru,[10] South Africa, the United Kingdom, and the United States, as well as in many European countries.[11][12][13]\n",
    "\n",
    "The Chinese New Year is associated with several myths and customs. The festival was traditionally a time to honour deities as well as ancestors.[14] Within China, regional customs and traditions concerning the celebration of the New Year vary widely,[15] and the evening preceding the New Year's Day is frequently regarded as an occasion for Chinese families to gather for the annual reunion dinner. It is also a tradition for every family to thoroughly clean their house, in order to sweep away any ill fortune and to make way for incoming good luck. Another practiced custom is the decoration of windows and doors with red paper-cuts and couplets. Popular themes among these paper-cuts and couplets include good fortune or happiness, wealth, and longevity. Other activities include lighting firecrackers and giving money in red envelopes.\n",
    "\n",
    "'''"
   ]
  },
  {
   "cell_type": "code",
   "execution_count": 9,
   "metadata": {},
   "outputs": [
    {
     "name": "stdout",
     "output_type": "stream",
     "text": [
      "[SystemMessage(content='you are an expert assistant with expertize in summarizing articles'), HumanMessage(content=\"please provide a short and concise summary of the following speech:\\n Text: \\nChinese New Year or the Spring Festival (see also § Names) is a festival that celebrates the beginning of a new year on the traditional lunisolar Chinese calendar. Marking the end of winter and the beginning of spring, observances traditionally take place from Chinese New Year's Eve, the evening preceding the first day of the year, to the Lantern Festival, held on the 15th day of the year. The first day of Chinese New Year begins on the new moon that appears between 21 January and 20 February.[a]\\n\\nChinese New Year is one of the most important holidays in Chinese culture. It has influenced similar celebrations in other cultures, commonly referred to collectively as Lunar New Year, such as the Losar of Tibet, the Tết of Vietnam, the Korean New Year, and the Ryukyu New Year.[3][4][5] It is also celebrated worldwide in regions and countries that house significant Overseas Chinese or Sinophone populations, especially in Southeast Asia. These include Singapore,[6] Brunei, Cambodia, Indonesia, Malaysia, Myanmar,[7] the Philippines,[8] Thailand, and Vietnam. It is also prominent beyond Asia, especially in Australia, Canada, France, Mauritius,[9] New Zealand, Peru,[10] South Africa, the United Kingdom, and the United States, as well as in many European countries.[11][12][13]\\n\\nThe Chinese New Year is associated with several myths and customs. The festival was traditionally a time to honour deities as well as ancestors.[14] Within China, regional customs and traditions concerning the celebration of the New Year vary widely,[15] and the evening preceding the New Year's Day is frequently regarded as an occasion for Chinese families to gather for the annual reunion dinner. It is also a tradition for every family to thoroughly clean their house, in order to sweep away any ill fortune and to make way for incoming good luck. Another practiced custom is the decoration of windows and doors with red paper-cuts and couplets. Popular themes among these paper-cuts and couplets include good fortune or happiness, wealth, and longevity. Other activities include lighting firecrackers and giving money in red envelopes.\\n\\n\")]\n"
     ]
    },
    {
     "data": {
      "text/plain": [
       "AIMessage(content=\"The Chinese New Year, also known as the Spring Festival, is a significant celebration on the traditional lunisolar Chinese calendar. It marks the transition from winter to spring and is observed from Chinese New Year's Eve to the Lantern Festival. Celebrated globally, it influences similar Lunar New Year celebrations in other cultures. The festival is associated with various customs such as honoring deities and ancestors, family reunions, house cleaning for good luck, decorating with red paper-cuts, lighting firecrackers, and giving money in red envelopes.\")"
      ]
     },
     "execution_count": 9,
     "metadata": {},
     "output_type": "execute_result"
    }
   ],
   "source": [
    "prompt_template = ChatPromptTemplate.from_messages([\n",
    "    SystemMessage(content = \"you are an expert assistant with expertize in summarizing articles\"),\n",
    "    HumanMessagePromptTemplate.from_template(\"please provide a short and concise summary of the following speech:\\n Text: {input_speech}\")\n",
    "    ]\n",
    ")\n",
    "\n",
    "prompt = prompt_template.format_messages(input_speech = speech)\n",
    "\n",
    "print(prompt)\n",
    "\n",
    "chat.invoke(prompt)"
   ]
  },
  {
   "cell_type": "markdown",
   "metadata": {},
   "source": [
    "# Summarize An Article"
   ]
  },
  {
   "cell_type": "code",
   "execution_count": 19,
   "metadata": {},
   "outputs": [
    {
     "data": {
      "text/plain": [
       "[Document(page_content=\"Hello, and welcome to our Q4 2016 financial results conference call\\nJoining us today to answer your questions is Brian Olsavsky, our CFO\\nAs you listen to today's conference call, we encourage you to have our press release in front of you, which includes our financial results as well as metrics and commentary on the quarter\\nPlease note, unless otherwise stated, all comparisons in this call will be against our results for the comparable period of 2015. Our comments and responses to your questions reflect management's views as of today, February 2, 2017 only and will include forward-looking statements\\nActual results may differ materially\\nAdditional information about factors that could potentially impact our financial results is included in today's press release and our filings with the SEC, including our most recent Annual Report on Form 10-K and subsequent filings\\nDuring this call, we may discuss certain non-GAAP financial measures\\nIn our press release, slides accompanying this webcast and our filings with the SEC, each of which is posted on our IR website, you will find additional disclosures regarding these non-GAAP measures including reconciliations of these measures with comparable GAAP measures\\nOur guidance incorporates the order trends that we've seen to-date and what we believe today to be appropriate assumptions\\nOur results are inherently unpredictable and may be materially affected by many factors, including fluctuations in foreign exchange rates, changes in global economic conditions and customer spending, world events, the rate of growth of the Internet, online commerce and cloud services, and the various factors detailed in our filings with the SEC\\nOur guidance also assumes among other things that we don't conclude additional business acquisitions, investments, restructurings or legal settlements\\nIt is not possible to accurately predict demand for our goods and services and therefore our actual results could differ materially from our guidance\\nAnd just briefly before we move to questions, I'd like to address our Form 10-K that we'll be filing with the SEC\\nWe received a comment letter from the SEC's Division of Corporate Finance regarding our 2015 Form 10-K and have subsequently been engaged with the SEC staff regarding our disclosures\\nWe will be revising the disclosures of net, product and service sales in our Form 10-K\\nAs a result, we expect to file our 2016 Form 10-K later than we typically have, but before the SEC's due date of March 1. These changes relate to our entity-wide disclosures and do not impact the financial results that we report for the company or our segments\\nWith that, we will move to Q&A\\nOperator, please remind our listeners how to initiate a question\\nQuestion-and-Answer Session\\nYes, hi, Ben\\nThis is Darin\\nYes\\nWe're very pleased with our FBA offering, and that's really helpful to sellers around the world\\nCertainly, our international sellers have access to more and more customers through that offering and that doesn't exclude sellers in China as well\\nThe offering in China that we have for consumers is also a great, trusted customer engagement\\nAnd we have a very strong and trusted venue for Chinese customers to access international brands there as we continue to focus on great offerings through the AmazonGlobal Store, which offers great brands from outside of China to customers\\nAnd so there's a mix of things going on in China and we're happy with what we're seeing in both of those\\nYes, and this is Darin\\nOn China, like I said, we're very pleased with our offering in China\\nOur strategy there has been one of bringing a trusted and authentic product to customers in China, both domestically and from international offers\\nSo we'll continue to focus on the Global Store there\\nAs you may know, we've launched the Prime program that's focused around the availability of international goods in China and that we're pleased with what we're seeing there\\nHi, Mark\\nOn the unit growth, we're very happy with the 24% unit growth that we saw in Q4 like you mentioned\\nOur unit growth has been strong and that's primarily attributable to our Prime program and the customers and members that enjoy that program\\nAs Brian mentioned, that 28% is only part of the story\\nOur Amazon Fulfilled units, the amount going through our fulfillment centers and which essentially includes our first-party retail and our FBA sales and it grew nearly 40% over 2016. So we're very pleased with those results and happy with the fundamentals of the business from that perspective\\nCustomers continue to respond very well to the low prices\\nThe vast selection which is helped by the FBA sellers and the strong convenience that we can offer through FREE Two-Day Shipping and the multitude of other faster shipping options such as Same-Day, Next-Day and in some cases with Prime Now, the 1-Hour Delivery to 2-Hour Delivery\\nSo Prime membership and selection continues to drive growth and you'll see that in our unit growth numbers\\nHi, Mark\\nThis is Darin\\nOn the customer count, no absolute number to give this quarter\\nAs you know, back in Q1 we gave an active customer count that exceeded 300 million and I can say it's still growing and we're pleased with the number there\\nWhat we do like is the engagement with Prime\\nWe continue to add Prime members and similar to the flywheel that Brian was just mentioning, that the FBA selection helps us with engaging customers and in particular the Prime program\\nSo we're very pleased with our customer engagement this year\\nOn the customer split, we serve – in AWS, we serve millions of active customers along the spectrum of large enterprise companies as well as small startups and the public company – or public environment as well\\nThe multitude of launches that we had in reinvent was great for all sizes of customers, really, both large and small; both companies starting – just getting their start with AWS, but also companies that have been engaged with AWS for many years\\nAnd so we're really happy about the engagement of reinvent and the participation in that conference as well as the engagement of the new services that we've launched in Q4 and all of 2016, really\\nAnd on other revenue, I just want to call out, there's a number of things going into that particular line\\nThese things include revenue from our co-branded credit card arrangements and certain advertising, particularly display advertising\\nWe have other types of advertising that's spread out throughout the P&L, whether that's a kind of shared marketing investment from our vendors which goes into contra COGS and lowers the cost of sales, or it's related to other seller advertising which is generally within the EGM and media categories\\nAnd so I'd say other revenue incorporates a number of things, not just advertising\\nAnd on India demonetization, nothing particular to call out today on that\\nThank you for joining us on the call today and for your questions\\nA replay will be available on our Investor Relations website at least through the end of the quarter\\nWe appreciate your interest in Amazon\\ncom and look forward to talking to you again next quarter\\n\", metadata={'source': 'Amazon_Transcript.txt'})]"
      ]
     },
     "execution_count": 19,
     "metadata": {},
     "output_type": "execute_result"
    }
   ],
   "source": [
    "loader = TextLoader(\"Amazon_Transcript.txt\")\n",
    "\n",
    "document = loader.load()\n",
    "\n",
    "document"
   ]
  },
  {
   "cell_type": "code",
   "execution_count": 22,
   "metadata": {},
   "outputs": [
    {
     "name": "stdout",
     "output_type": "stream",
     "text": [
      "{'output_text': \"The speech provides an overview of Amazon's Q4 2016 financial results conference call, with CFO Brian Olsavsky answering questions. It includes information on financial results, forward-looking statements, non-GAAP financial measures, guidance, SEC filings, and updates on Form 10-K. The Q&A session covers topics such as FBA offering, international sellers, unit growth, customer count, AWS customers, and other revenue sources. The call concludes with a reminder of the replay availability on the Investor Relations website.\"}\n"
     ]
    }
   ],
   "source": [
    "prompt_template = PromptTemplate(\n",
    "    template = '''Write a concise and short summary of the following speech.\n",
    "    Speech: {text}\n",
    "    ''',\n",
    "    input_variables = [\"text\"]\n",
    ")\n",
    "\n",
    "llm = ChatOpenAI(model_name = \"gpt-3.5-turbo\",\n",
    "                 temperature = 0)\n",
    "\n",
    "chain = load_summarize_chain(\n",
    "    llm = llm,\n",
    "    chain_type = \"stuff\",\n",
    "    prompt = prompt_template\n",
    "\n",
    ")\n",
    "\n",
    "summary = chain.invoke({\"input_documents\": document},\n",
    "                        return_only_outputs = True)\n",
    "\n",
    "print(summary)"
   ]
  },
  {
   "cell_type": "markdown",
   "metadata": {},
   "source": [
    "# Summarize A Long Article"
   ]
  },
  {
   "cell_type": "markdown",
   "metadata": {},
   "source": [
    "* divide the huge article into chunks \\\n",
    "  summarize each chunk using LLM \\\n",
    "  combine all summaries and generate a final summary\n",
    "  "
   ]
  },
  {
   "cell_type": "code",
   "execution_count": null,
   "metadata": {},
   "outputs": [],
   "source": [
    "llm = ChatOpenAI(model_name = \"gpt-3.5-turbo\",\n",
    "                 temperature = 0)"
   ]
  },
  {
   "cell_type": "code",
   "execution_count": 34,
   "metadata": {},
   "outputs": [
    {
     "data": {
      "text/plain": [
       "[Document(page_content=\"Hello, and welcome to our Q4 2016 financial results conference call\\nJoining us today to answer your questions is Brian Olsavsky, our CFO\\nAs you listen to today's conference call, we encourage you to have our press release in front of you, which includes our financial results as well as metrics and commentary on the quarter\\nPlease note, unless otherwise stated, all comparisons in this call will be against our results for the comparable period of 2015. Our comments and responses to your questions reflect management's views as of today, February 2, 2017 only and will include forward-looking statements\\nActual results may differ materially\\nAdditional information about factors that could potentially impact our financial results is included in today's press release and our filings with the SEC, including our most recent Annual Report on Form 10-K and subsequent filings\\nDuring this call, we may discuss certain non-GAAP financial measures\\nIn our press release, slides accompanying this webcast and our filings with the SEC, each of which is posted on our IR website, you will find additional disclosures regarding these non-GAAP measures including reconciliations of these measures with comparable GAAP measures\\nOur guidance incorporates the order trends that we've seen to-date and what we believe today to be appropriate assumptions\\nOur results are inherently unpredictable and may be materially affected by many factors, including fluctuations in foreign exchange rates, changes in global economic conditions and customer spending, world events, the rate of growth of the Internet, online commerce and cloud services, and the various factors detailed in our filings with the SEC\\nOur guidance also assumes among other things that we don't conclude additional business acquisitions, investments, restructurings or legal settlements\\nIt is not possible to accurately predict demand for our goods and services and therefore our actual results could differ materially from our guidance\\nAnd just briefly before we move to questions, I'd like to address our Form 10-K that we'll be filing with the SEC\\nWe received a comment letter from the SEC's Division of Corporate Finance regarding our 2015 Form 10-K and have subsequently been engaged with the SEC staff regarding our disclosures\\nWe will be revising the disclosures of net, product and service sales in our Form 10-K\\nAs a result, we expect to file our 2016 Form 10-K later than we typically have, but before the SEC's due date of March 1. These changes relate to our entity-wide disclosures and do not impact the financial results that we report for the company or our segments\\nWith that, we will move to Q&A\\nOperator, please remind our listeners how to initiate a question\\nQuestion-and-Answer Session\\nYes, hi, Ben\\nThis is Darin\\nYes\\nWe're very pleased with our FBA offering, and that's really helpful to sellers around the world\\nCertainly, our international sellers have access to more and more customers through that offering and that doesn't exclude sellers in China as well\\nThe offering in China that we have for consumers is also a great, trusted customer engagement\\nAnd we have a very strong and trusted venue for Chinese customers to access international brands there as we continue to focus on great offerings through the AmazonGlobal Store, which offers great brands from outside of China to customers\\nAnd so there's a mix of things going on in China and we're happy with what we're seeing in both of those\\nYes, and this is Darin\\nOn China, like I said, we're very pleased with our offering in China\\nOur strategy there has been one of bringing a trusted and authentic product to customers in China, both domestically and from international offers\\nSo we'll continue to focus on the Global Store there\\nAs you may know, we've launched the Prime program that's focused around the availability of international goods in China and that we're pleased with what we're seeing there\\nHi, Mark\\nOn the unit growth, we're very happy with the 24% unit growth that we saw in Q4 like you mentioned\\nOur unit growth has been strong and that's primarily attributable to our Prime program and the customers and members that enjoy that program\\nAs Brian mentioned, that 28% is only part of the story\\nOur Amazon Fulfilled units, the amount going through our fulfillment centers and which essentially includes our first-party retail and our FBA sales and it grew nearly 40% over 2016. So we're very pleased with those results and happy with the fundamentals of the business from that perspective\\nCustomers continue to respond very well to the low prices\\nThe vast selection which is helped by the FBA sellers and the strong convenience that we can offer through FREE Two-Day Shipping and the multitude of other faster shipping options such as Same-Day, Next-Day and in some cases with Prime Now, the 1-Hour Delivery to 2-Hour Delivery\\nSo Prime membership and selection continues to drive growth and you'll see that in our unit growth numbers\\nHi, Mark\\nThis is Darin\\nOn the customer count, no absolute number to give this quarter\\nAs you know, back in Q1 we gave an active customer count that exceeded 300 million and I can say it's still growing and we're pleased with the number there\\nWhat we do like is the engagement with Prime\\nWe continue to add Prime members and similar to the flywheel that Brian was just mentioning, that the FBA selection helps us with engaging customers and in particular the Prime program\\nSo we're very pleased with our customer engagement this year\\nOn the customer split, we serve – in AWS, we serve millions of active customers along the spectrum of large enterprise companies as well as small startups and the public company – or public environment as well\\nThe multitude of launches that we had in reinvent was great for all sizes of customers, really, both large and small; both companies starting – just getting their start with AWS, but also companies that have been engaged with AWS for many years\\nAnd so we're really happy about the engagement of reinvent and the participation in that conference as well as the engagement of the new services that we've launched in Q4 and all of 2016, really\\nAnd on other revenue, I just want to call out, there's a number of things going into that particular line\\nThese things include revenue from our co-branded credit card arrangements and certain advertising, particularly display advertising\\nWe have other types of advertising that's spread out throughout the P&L, whether that's a kind of shared marketing investment from our vendors which goes into contra COGS and lowers the cost of sales, or it's related to other seller advertising which is generally within the EGM and media categories\\nAnd so I'd say other revenue incorporates a number of things, not just advertising\\nAnd on India demonetization, nothing particular to call out today on that\\nThank you for joining us on the call today and for your questions\\nA replay will be available on our Investor Relations website at least through the end of the quarter\\nWe appreciate your interest in Amazon\\ncom and look forward to talking to you again next quarter\\n\", metadata={'source': 'Amazon_Transcript.txt'})]"
      ]
     },
     "execution_count": 34,
     "metadata": {},
     "output_type": "execute_result"
    }
   ],
   "source": [
    "loader = TextLoader(\"Amazon_Transcript.txt\")\n",
    "\n",
    "document = loader.load()\n",
    "\n",
    "document"
   ]
  },
  {
   "cell_type": "code",
   "execution_count": 35,
   "metadata": {},
   "outputs": [
    {
     "name": "stdout",
     "output_type": "stream",
     "text": [
      "[Document(page_content=\"Hello, and welcome to our Q4 2016 financial results conference call\\nJoining us today to answer your questions is Brian Olsavsky, our CFO\\nAs you listen to today's conference call, we encourage you to have our press release in front of you, which includes our financial results as well as metrics and commentary on the quarter\\nPlease note, unless otherwise stated, all comparisons in this call will be against our results for the comparable period of 2015. Our comments and responses to your questions reflect management's views as of today, February 2, 2017 only and will include forward-looking statements\\nActual results may differ materially\\nAdditional information about factors that could potentially impact our financial results is included in today's press release and our filings with the SEC, including our most recent Annual Report on Form 10-K and subsequent filings\\nDuring this call, we may discuss certain non-GAAP financial measures\", metadata={'source': 'Amazon_Transcript.txt'}), Document(page_content=\"During this call, we may discuss certain non-GAAP financial measures\\nIn our press release, slides accompanying this webcast and our filings with the SEC, each of which is posted on our IR website, you will find additional disclosures regarding these non-GAAP measures including reconciliations of these measures with comparable GAAP measures\\nOur guidance incorporates the order trends that we've seen to-date and what we believe today to be appropriate assumptions\\nOur results are inherently unpredictable and may be materially affected by many factors, including fluctuations in foreign exchange rates, changes in global economic conditions and customer spending, world events, the rate of growth of the Internet, online commerce and cloud services, and the various factors detailed in our filings with the SEC\\nOur guidance also assumes among other things that we don't conclude additional business acquisitions, investments, restructurings or legal settlements\", metadata={'source': 'Amazon_Transcript.txt'}), Document(page_content=\"Our guidance also assumes among other things that we don't conclude additional business acquisitions, investments, restructurings or legal settlements\\nIt is not possible to accurately predict demand for our goods and services and therefore our actual results could differ materially from our guidance\\nAnd just briefly before we move to questions, I'd like to address our Form 10-K that we'll be filing with the SEC\\nWe received a comment letter from the SEC's Division of Corporate Finance regarding our 2015 Form 10-K and have subsequently been engaged with the SEC staff regarding our disclosures\\nWe will be revising the disclosures of net, product and service sales in our Form 10-K\\nAs a result, we expect to file our 2016 Form 10-K later than we typically have, but before the SEC's due date of March 1. These changes relate to our entity-wide disclosures and do not impact the financial results that we report for the company or our segments\\nWith that, we will move to Q&A\", metadata={'source': 'Amazon_Transcript.txt'}), Document(page_content=\"With that, we will move to Q&A\\nOperator, please remind our listeners how to initiate a question\\nQuestion-and-Answer Session\\nYes, hi, Ben\\nThis is Darin\\nYes\\nWe're very pleased with our FBA offering, and that's really helpful to sellers around the world\\nCertainly, our international sellers have access to more and more customers through that offering and that doesn't exclude sellers in China as well\\nThe offering in China that we have for consumers is also a great, trusted customer engagement\\nAnd we have a very strong and trusted venue for Chinese customers to access international brands there as we continue to focus on great offerings through the AmazonGlobal Store, which offers great brands from outside of China to customers\\nAnd so there's a mix of things going on in China and we're happy with what we're seeing in both of those\\nYes, and this is Darin\\nOn China, like I said, we're very pleased with our offering in China\", metadata={'source': 'Amazon_Transcript.txt'}), Document(page_content=\"And so there's a mix of things going on in China and we're happy with what we're seeing in both of those\\nYes, and this is Darin\\nOn China, like I said, we're very pleased with our offering in China\\nOur strategy there has been one of bringing a trusted and authentic product to customers in China, both domestically and from international offers\\nSo we'll continue to focus on the Global Store there\\nAs you may know, we've launched the Prime program that's focused around the availability of international goods in China and that we're pleased with what we're seeing there\\nHi, Mark\\nOn the unit growth, we're very happy with the 24% unit growth that we saw in Q4 like you mentioned\\nOur unit growth has been strong and that's primarily attributable to our Prime program and the customers and members that enjoy that program\\nAs Brian mentioned, that 28% is only part of the story\", metadata={'source': 'Amazon_Transcript.txt'}), Document(page_content=\"Our unit growth has been strong and that's primarily attributable to our Prime program and the customers and members that enjoy that program\\nAs Brian mentioned, that 28% is only part of the story\\nOur Amazon Fulfilled units, the amount going through our fulfillment centers and which essentially includes our first-party retail and our FBA sales and it grew nearly 40% over 2016. So we're very pleased with those results and happy with the fundamentals of the business from that perspective\\nCustomers continue to respond very well to the low prices\\nThe vast selection which is helped by the FBA sellers and the strong convenience that we can offer through FREE Two-Day Shipping and the multitude of other faster shipping options such as Same-Day, Next-Day and in some cases with Prime Now, the 1-Hour Delivery to 2-Hour Delivery\\nSo Prime membership and selection continues to drive growth and you'll see that in our unit growth numbers\\nHi, Mark\\nThis is Darin\", metadata={'source': 'Amazon_Transcript.txt'}), Document(page_content=\"So Prime membership and selection continues to drive growth and you'll see that in our unit growth numbers\\nHi, Mark\\nThis is Darin\\nOn the customer count, no absolute number to give this quarter\\nAs you know, back in Q1 we gave an active customer count that exceeded 300 million and I can say it's still growing and we're pleased with the number there\\nWhat we do like is the engagement with Prime\\nWe continue to add Prime members and similar to the flywheel that Brian was just mentioning, that the FBA selection helps us with engaging customers and in particular the Prime program\\nSo we're very pleased with our customer engagement this year\\nOn the customer split, we serve – in AWS, we serve millions of active customers along the spectrum of large enterprise companies as well as small startups and the public company – or public environment as well\", metadata={'source': 'Amazon_Transcript.txt'}), Document(page_content=\"The multitude of launches that we had in reinvent was great for all sizes of customers, really, both large and small; both companies starting – just getting their start with AWS, but also companies that have been engaged with AWS for many years\\nAnd so we're really happy about the engagement of reinvent and the participation in that conference as well as the engagement of the new services that we've launched in Q4 and all of 2016, really\\nAnd on other revenue, I just want to call out, there's a number of things going into that particular line\\nThese things include revenue from our co-branded credit card arrangements and certain advertising, particularly display advertising\\nWe have other types of advertising that's spread out throughout the P&L, whether that's a kind of shared marketing investment from our vendors which goes into contra COGS and lowers the cost of sales, or it's related to other seller advertising which is generally within the EGM and media categories\", metadata={'source': 'Amazon_Transcript.txt'}), Document(page_content=\"And so I'd say other revenue incorporates a number of things, not just advertising\\nAnd on India demonetization, nothing particular to call out today on that\\nThank you for joining us on the call today and for your questions\\nA replay will be available on our Investor Relations website at least through the end of the quarter\\nWe appreciate your interest in Amazon\\ncom and look forward to talking to you again next quarter\", metadata={'source': 'Amazon_Transcript.txt'})]\n",
      "9\n"
     ]
    }
   ],
   "source": [
    "text_splitter = RecursiveCharacterTextSplitter(chunk_size = 1000,\n",
    "                                               chunk_overlap = 200)\n",
    "\n",
    "chunks = text_splitter.split_documents(document)\n",
    "\n",
    "print(chunks)\n",
    "print(len(chunks))"
   ]
  },
  {
   "cell_type": "code",
   "execution_count": 36,
   "metadata": {},
   "outputs": [
    {
     "data": {
      "text/plain": [
       "{'intermediate_steps': ['The speaker welcomes the audience to the Q4 2016 financial results conference call and introduces Brian Olsavsky, the CFO. They encourage listeners to have the press release with the financial results in front of them. They note that all comparisons will be against the results from 2015 and that their comments are as of February 2, 2017 and may include forward-looking statements. They caution that actual results may differ and provide information on factors that could impact financial results. They also mention that they may discuss non-GAAP financial measures during the call.',\n",
       "  'The speaker will discuss non-GAAP financial measures during the call and directs listeners to additional disclosures on their website. The guidance provided takes into account current order trends and various factors that could impact results, such as foreign exchange rates and global economic conditions. The guidance also assumes no additional business acquisitions, investments, restructurings, or legal settlements.',\n",
       "  \"The speaker mentioned that their guidance assumes no additional business acquisitions, investments, restructurings, or legal settlements. They also stated that it is difficult to predict demand for their goods and services, so their actual results may differ from their guidance. They briefly mentioned that they will be revising disclosures in their Form 10-K due to a comment letter from the SEC, but this will not impact their financial results. They expect to file their 2016 Form 10-K later than usual but before the SEC's due date of March 1. They then opened the floor for questions.\",\n",
       "  \"The speaker is pleased with the FBA offering and its benefits to sellers worldwide. They highlight the access to more customers for international sellers, including those in China. The speaker also mentions the trusted customer engagement in China and the AmazonGlobal Store's offerings of international brands. Overall, they are happy with the developments in China.\",\n",
       "  \"The speaker is pleased with the company's performance in China, particularly with their strategy of offering trusted and authentic products to customers both domestically and internationally. They are focused on the Global Store and have launched the Prime program in China, which has been successful. They are also happy with the 24% unit growth in Q4, attributing it to the Prime program and the customers who enjoy it.\",\n",
       "  'The speaker highlights the strong unit growth of their business, attributing it to their Prime program and the customers who enjoy it. They mention that Amazon Fulfilled units grew nearly 40% over 2016, and customers are responding well to low prices, vast selection, and convenient shipping options. The speaker emphasizes that Prime membership and selection are driving growth in their unit numbers.',\n",
       "  'The speaker discusses how Prime membership and selection are driving growth for the company, as seen in their unit growth numbers. They mention that the active customer count is still growing and exceeds 300 million. They are pleased with the engagement with Prime and continue to add Prime members. The speaker also mentions that they serve millions of active customers in AWS, ranging from large enterprise companies to small startups. Overall, they are pleased with their customer engagement this year.',\n",
       "  'The speaker is highlighting the success of the launches at the reinvent conference, which catered to both large and small customers. They are pleased with the engagement at the conference and the launch of new services in Q4 and throughout 2016. They also mention that revenue from co-branded credit card arrangements and advertising contribute to their overall revenue.',\n",
       "  \"The speaker mentions that other revenue sources besides advertising are important, does not have any specific comments on India's demonetization, thanks the audience for joining the call and their questions, mentions a replay will be available on the Investor Relations website, expresses appreciation for interest in Amazon.com, and looks forward to speaking again next quarter.\"],\n",
       " 'output_text': \"Title: Driving Growth and Engagement: A Summary of Q4 2016 Financial Results Conference Call\\n\\n1. The speaker discussed non-GAAP financial measures and provided guidance based on current order trends and various factors that could impact results.\\n2. The guidance assumes no additional business acquisitions, investments, restructurings, or legal settlements, but actual results may differ due to unpredictable demand.\\n3. The speaker highlighted the success of the FBA offering and the company's performance in China, focusing on trusted products and the Prime program.\\n4. Strong unit growth was attributed to the Prime program, low prices, vast selection, and convenient shipping options.\\n5. Prime membership and selection continue to drive growth, with an active customer count exceeding 300 million.\\n6. The success of launches at the reinvent conference, revenue from co-branded credit card arrangements, and advertising also contribute to overall revenue.\\n7. The speaker expressed appreciation for the audience, mentioned a replay will be available, and looks forward to speaking again next quarter.\"}"
      ]
     },
     "execution_count": 36,
     "metadata": {},
     "output_type": "execute_result"
    }
   ],
   "source": [
    "map_prompt_template = PromptTemplate(\n",
    "    template = \"\"\"please summarize the below speech\n",
    "    Speech: {text}\n",
    "    \"\"\",\n",
    "    input_variables = [\"text\"]\n",
    ")\n",
    "\n",
    "\n",
    "combine_prompt_template = PromptTemplate(\n",
    "    template = \"\"\"\n",
    "    provide a final summary of the entire speech with these important points.\n",
    "    add a generic motivation title.\n",
    "    start the precise summary with and introduction and provide the summary in the number points for the speech\n",
    "    Speech: {text}\n",
    "    \"\"\",\n",
    "    input_variables = [\"text\"]\n",
    ")\n",
    "\n",
    "\n",
    "chain = load_summarize_chain(\n",
    "    llm,\n",
    "    chain_type = \"map_reduce\",\n",
    "    map_prompt = map_prompt_template,\n",
    "    combine_prompt = combine_prompt_template,\n",
    "    return_intermediate_steps = True\n",
    ")\n",
    "\n",
    "summary = chain.invoke({\"input_documents\": chunks}, return_only_outputs = True)\n",
    "\n",
    "summary"
   ]
  },
  {
   "cell_type": "code",
   "execution_count": null,
   "metadata": {},
   "outputs": [],
   "source": []
  }
 ],
 "metadata": {
  "kernelspec": {
   "display_name": "Python 3",
   "language": "python",
   "name": "python3"
  },
  "language_info": {
   "codemirror_mode": {
    "name": "ipython",
    "version": 3
   },
   "file_extension": ".py",
   "mimetype": "text/x-python",
   "name": "python",
   "nbconvert_exporter": "python",
   "pygments_lexer": "ipython3",
   "version": "3.11.7"
  }
 },
 "nbformat": 4,
 "nbformat_minor": 2
}
