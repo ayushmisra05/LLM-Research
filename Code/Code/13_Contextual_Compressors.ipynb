{
 "cells": [
  {
   "cell_type": "markdown",
   "metadata": {},
   "source": [
    "# Contextual_Compressor"
   ]
  },
  {
   "cell_type": "markdown",
   "metadata": {},
   "source": [
    "* we have a base retriever to get a bunch of different pieces of information \\\n",
    "  but some real useful and information may be in the middle of particular document that is being returned \\\n",
    "  for example we want to disgard hello, how are you that kind of stuff \\\n",
    "  then we have compressor or filters to go through that information to extract out only what is the most useful to answer the question"
   ]
  },
  {
   "cell_type": "markdown",
   "metadata": {},
   "source": [
    "# Load"
   ]
  },
  {
   "cell_type": "markdown",
   "metadata": {},
   "source": [
    "## Load Package"
   ]
  },
  {
   "cell_type": "code",
   "execution_count": 14,
   "metadata": {},
   "outputs": [],
   "source": [
    "import os\n",
    "from dotenv import load_dotenv\n",
    "\n",
    "from langchain.schema import Document \n",
    "from langchain.document_loaders import TextLoader\n",
    "from langchain.text_splitter import RecursiveCharacterTextSplitter\n",
    "from langchain.vectorstores import FAISS\n",
    "from langchain.vectorstores import Chroma\n",
    "from langchain.storage import InMemoryStore\n",
    "from langchain.embeddings import OpenAIEmbeddings\n",
    "\n",
    "from langchain.llms import OpenAI\n",
    "\n",
    "from langchain.retrievers import ContextualCompressionRetriever\n",
    "from langchain.retrievers.document_compressors import LLMChainExtractor\n",
    "from langchain.retrievers.document_compressors import LLMChainFilter\n"
   ]
  },
  {
   "cell_type": "code",
   "execution_count": 2,
   "metadata": {},
   "outputs": [],
   "source": [
    "OPENAI_API_KEY = os.environ.get(\"OPENAI_API_KEY\")\n",
    "os.environ[\"OPENAI_API_KEY\"] = OPENAI_API_KEY"
   ]
  },
  {
   "cell_type": "markdown",
   "metadata": {},
   "source": [
    "# Document Loader"
   ]
  },
  {
   "cell_type": "code",
   "execution_count": 6,
   "metadata": {},
   "outputs": [
    {
     "data": {
      "text/plain": [
       "[Document(page_content=\"Hello, and welcome to our Q4 2016 financial results conference call\\nJoining us today to answer your questions is Brian Olsavsky, our CFO\\nAs you listen to today's conference call, we encourage you to have our press release in front of you, which includes our financial results as well as metrics and commentary on the quarter\\nPlease note, unless otherwise stated, all comparisons in this call will be against our results for the comparable period of 2015. Our comments and responses to your questions reflect management's views as of today, February 2, 2017 only and will include forward-looking statements\\nActual results may differ materially\\nAdditional information about factors that could potentially impact our financial results is included in today's press release and our filings with the SEC, including our most recent Annual Report on Form 10-K and subsequent filings\\nDuring this call, we may discuss certain non-GAAP financial measures\\nIn our press release, slides accompanying this webcast and our filings with the SEC, each of which is posted on our IR website, you will find additional disclosures regarding these non-GAAP measures including reconciliations of these measures with comparable GAAP measures\\nOur guidance incorporates the order trends that we've seen to-date and what we believe today to be appropriate assumptions\\nOur results are inherently unpredictable and may be materially affected by many factors, including fluctuations in foreign exchange rates, changes in global economic conditions and customer spending, world events, the rate of growth of the Internet, online commerce and cloud services, and the various factors detailed in our filings with the SEC\\nOur guidance also assumes among other things that we don't conclude additional business acquisitions, investments, restructurings or legal settlements\\nIt is not possible to accurately predict demand for our goods and services and therefore our actual results could differ materially from our guidance\\nAnd just briefly before we move to questions, I'd like to address our Form 10-K that we'll be filing with the SEC\\nWe received a comment letter from the SEC's Division of Corporate Finance regarding our 2015 Form 10-K and have subsequently been engaged with the SEC staff regarding our disclosures\\nWe will be revising the disclosures of net, product and service sales in our Form 10-K\\nAs a result, we expect to file our 2016 Form 10-K later than we typically have, but before the SEC's due date of March 1. These changes relate to our entity-wide disclosures and do not impact the financial results that we report for the company or our segments\\nWith that, we will move to Q&A\\nOperator, please remind our listeners how to initiate a question\\nQuestion-and-Answer Session\\nYes, hi, Ben\\nThis is Darin\\nYes\\nWe're very pleased with our FBA offering, and that's really helpful to sellers around the world\\nCertainly, our international sellers have access to more and more customers through that offering and that doesn't exclude sellers in China as well\\nThe offering in China that we have for consumers is also a great, trusted customer engagement\\nAnd we have a very strong and trusted venue for Chinese customers to access international brands there as we continue to focus on great offerings through the AmazonGlobal Store, which offers great brands from outside of China to customers\\nAnd so there's a mix of things going on in China and we're happy with what we're seeing in both of those\\nYes, and this is Darin\\nOn China, like I said, we're very pleased with our offering in China\\nOur strategy there has been one of bringing a trusted and authentic product to customers in China, both domestically and from international offers\\nSo we'll continue to focus on the Global Store there\\nAs you may know, we've launched the Prime program that's focused around the availability of international goods in China and that we're pleased with what we're seeing there\\nHi, Mark\\nOn the unit growth, we're very happy with the 24% unit growth that we saw in Q4 like you mentioned\\nOur unit growth has been strong and that's primarily attributable to our Prime program and the customers and members that enjoy that program\\nAs Brian mentioned, that 28% is only part of the story\\nOur Amazon Fulfilled units, the amount going through our fulfillment centers and which essentially includes our first-party retail and our FBA sales and it grew nearly 40% over 2016. So we're very pleased with those results and happy with the fundamentals of the business from that perspective\\nCustomers continue to respond very well to the low prices\\nThe vast selection which is helped by the FBA sellers and the strong convenience that we can offer through FREE Two-Day Shipping and the multitude of other faster shipping options such as Same-Day, Next-Day and in some cases with Prime Now, the 1-Hour Delivery to 2-Hour Delivery\\nSo Prime membership and selection continues to drive growth and you'll see that in our unit growth numbers\\nHi, Mark\\nThis is Darin\\nOn the customer count, no absolute number to give this quarter\\nAs you know, back in Q1 we gave an active customer count that exceeded 300 million and I can say it's still growing and we're pleased with the number there\\nWhat we do like is the engagement with Prime\\nWe continue to add Prime members and similar to the flywheel that Brian was just mentioning, that the FBA selection helps us with engaging customers and in particular the Prime program\\nSo we're very pleased with our customer engagement this year\\nOn the customer split, we serve – in AWS, we serve millions of active customers along the spectrum of large enterprise companies as well as small startups and the public company – or public environment as well\\nThe multitude of launches that we had in reinvent was great for all sizes of customers, really, both large and small; both companies starting – just getting their start with AWS, but also companies that have been engaged with AWS for many years\\nAnd so we're really happy about the engagement of reinvent and the participation in that conference as well as the engagement of the new services that we've launched in Q4 and all of 2016, really\\nAnd on other revenue, I just want to call out, there's a number of things going into that particular line\\nThese things include revenue from our co-branded credit card arrangements and certain advertising, particularly display advertising\\nWe have other types of advertising that's spread out throughout the P&L, whether that's a kind of shared marketing investment from our vendors which goes into contra COGS and lowers the cost of sales, or it's related to other seller advertising which is generally within the EGM and media categories\\nAnd so I'd say other revenue incorporates a number of things, not just advertising\\nAnd on India demonetization, nothing particular to call out today on that\\nThank you for joining us on the call today and for your questions\\nA replay will be available on our Investor Relations website at least through the end of the quarter\\nWe appreciate your interest in Amazon\\ncom and look forward to talking to you again next quarter\\n\", metadata={'source': 'Amazon_Transcript.txt'})]"
      ]
     },
     "execution_count": 6,
     "metadata": {},
     "output_type": "execute_result"
    }
   ],
   "source": [
    "loaders = [\n",
    "    TextLoader(\"Amazon_Transcript.txt\")\n",
    "]\n",
    "\n",
    "document = []\n",
    "for i_document in loaders:\n",
    "    document.extend(i_document.load())\n",
    "\n",
    "document"
   ]
  },
  {
   "cell_type": "markdown",
   "metadata": {},
   "source": [
    "# Text Splitter"
   ]
  },
  {
   "cell_type": "code",
   "execution_count": 7,
   "metadata": {},
   "outputs": [],
   "source": [
    "doc_splitter = RecursiveCharacterTextSplitter(chunk_size = 200, \n",
    "                                               chunk_overlap =200,\n",
    "                                               length_function  = len)\n",
    "\n",
    "doc_split = doc_splitter.split_documents(document)"
   ]
  },
  {
   "cell_type": "markdown",
   "metadata": {},
   "source": [
    "# Embeddings And Vector Stores"
   ]
  },
  {
   "cell_type": "code",
   "execution_count": 8,
   "metadata": {},
   "outputs": [],
   "source": [
    "embedding = OpenAIEmbeddings()\n",
    "\n",
    "xb = FAISS.from_documents(doc_split, embedding)"
   ]
  },
  {
   "cell_type": "markdown",
   "metadata": {},
   "source": [
    "# Retriver"
   ]
  },
  {
   "cell_type": "code",
   "execution_count": 10,
   "metadata": {},
   "outputs": [
    {
     "data": {
      "text/plain": [
       "[Document(page_content='A replay will be available on our Investor Relations website at least through the end of the quarter\\nWe appreciate your interest in Amazon\\ncom and look forward to talking to you again next quarter', metadata={'source': 'Amazon_Transcript.txt'}),\n",
       " Document(page_content=\"includes our first-party retail and our FBA sales and it grew nearly 40% over 2016. So we're very pleased with those results and happy with the fundamentals of the business from that perspective\", metadata={'source': 'Amazon_Transcript.txt'}),\n",
       " Document(page_content=\"So Prime membership and selection continues to drive growth and you'll see that in our unit growth numbers\\nHi, Mark\\nThis is Darin\\nOn the customer count, no absolute number to give this quarter\", metadata={'source': 'Amazon_Transcript.txt'}),\n",
       " Document(page_content='we have a very strong and trusted venue for Chinese customers to access international brands there as we continue to focus on great offerings through the AmazonGlobal Store, which offers great brands', metadata={'source': 'Amazon_Transcript.txt'}),\n",
       " Document(page_content='the FBA sellers and the strong convenience that we can offer through FREE Two-Day Shipping and the multitude of other faster shipping options such as Same-Day, Next-Day and in some cases with Prime', metadata={'source': 'Amazon_Transcript.txt'})]"
      ]
     },
     "execution_count": 10,
     "metadata": {},
     "output_type": "execute_result"
    }
   ],
   "source": [
    "retriever = xb.as_retriever(search_type=\"similarity_score_threshold\", \n",
    "                            search_kwargs={\"score_threshold\": 0.5,\n",
    "                                           \"k\": 5})\n",
    "\n",
    "relevant_doc = retriever.get_relevant_documents(\"what is the dividend of the amazon?\")\n",
    "\n",
    "relevant_doc"
   ]
  },
  {
   "cell_type": "markdown",
   "metadata": {},
   "source": [
    "# LLMChain Extractor"
   ]
  },
  {
   "cell_type": "markdown",
   "metadata": {},
   "source": [
    "* append a prompt to trim off the irrelevant context \\\n",
    "  given the question and context, extract any part of the context that is relevant to answer the question ..."
   ]
  },
  {
   "cell_type": "code",
   "execution_count": 24,
   "metadata": {},
   "outputs": [
    {
     "name": "stdout",
     "output_type": "stream",
     "text": [
      "input_variables=['context', 'question'] output_parser=NoOutputParser() template='Given the following question and context, extract any part of the context *AS IS* that is relevant to answer the question. If none of the context is relevant return NO_OUTPUT. \\n\\nRemember, *DO NOT* edit the extracted parts of the context.\\n\\n> Question: {question}\\n> Context:\\n>>>\\n{context}\\n>>>\\nExtracted relevant parts:'\n"
     ]
    }
   ],
   "source": [
    "# make the compressor\n",
    "llm = OpenAI(temperature=0)\n",
    "extractor = LLMChainExtractor.from_llm(llm)\n",
    "\n",
    "print(extractor.llm_chain.prompt)\n"
   ]
  },
  {
   "cell_type": "code",
   "execution_count": 27,
   "metadata": {},
   "outputs": [
    {
     "name": "stderr",
     "output_type": "stream",
     "text": [
      "/opt/anaconda3/lib/python3.11/site-packages/langchain/chains/llm.py:316: UserWarning: The predict_and_parse method is deprecated, instead pass an output parser directly to LLMChain.\n",
      "  warnings.warn(\n",
      "/opt/anaconda3/lib/python3.11/site-packages/langchain/chains/llm.py:316: UserWarning: The predict_and_parse method is deprecated, instead pass an output parser directly to LLMChain.\n",
      "  warnings.warn(\n",
      "/opt/anaconda3/lib/python3.11/site-packages/langchain/chains/llm.py:316: UserWarning: The predict_and_parse method is deprecated, instead pass an output parser directly to LLMChain.\n",
      "  warnings.warn(\n",
      "/opt/anaconda3/lib/python3.11/site-packages/langchain/chains/llm.py:316: UserWarning: The predict_and_parse method is deprecated, instead pass an output parser directly to LLMChain.\n",
      "  warnings.warn(\n",
      "/opt/anaconda3/lib/python3.11/site-packages/langchain/chains/llm.py:316: UserWarning: The predict_and_parse method is deprecated, instead pass an output parser directly to LLMChain.\n",
      "  warnings.warn(\n"
     ]
    },
    {
     "data": {
      "text/plain": [
       "[Document(page_content='FREE Two-Day Shipping, Same-Day, Next-Day, Prime', metadata={'source': 'Amazon_Transcript.txt'}),\n",
       " Document(page_content='FREE Two-Day Shipping, Same-Day, Next-Day, Prime Now', metadata={'source': 'Amazon_Transcript.txt'}),\n",
       " Document(page_content='AmazonGlobal Store, which offers great brands', metadata={'source': 'Amazon_Transcript.txt'}),\n",
       " Document(page_content='AmazonGlobal Store', metadata={'source': 'Amazon_Transcript.txt'})]"
      ]
     },
     "execution_count": 27,
     "metadata": {},
     "output_type": "execute_result"
    }
   ],
   "source": [
    "compression_retriever = ContextualCompressionRetriever(base_compressor = extractor,\n",
    "                                                       base_retriever=retriever)\n",
    "\n",
    "compression_doc = compression_retriever.get_relevant_documents(\"what is the product of the amazon?\")\n",
    "compression_doc"
   ]
  },
  {
   "cell_type": "markdown",
   "metadata": {},
   "source": [
    "# LLMChain Filter"
   ]
  },
  {
   "cell_type": "markdown",
   "metadata": {},
   "source": [
    "* append a prompt to use yes/no to filter the relevant context"
   ]
  },
  {
   "cell_type": "code",
   "execution_count": 25,
   "metadata": {},
   "outputs": [
    {
     "data": {
      "text/plain": [
       "PromptTemplate(input_variables=['context', 'question'], output_parser=BooleanOutputParser(), template=\"Given the following question and context, return YES if the context is relevant to the question and NO if it isn't.\\n\\n> Question: {question}\\n> Context:\\n>>>\\n{context}\\n>>>\\n> Relevant (YES / NO):\")"
      ]
     },
     "execution_count": 25,
     "metadata": {},
     "output_type": "execute_result"
    }
   ],
   "source": [
    "llm = OpenAI(temperature=0)\n",
    "filter = LLMChainFilter.from_llm(llm)\n",
    "\n",
    "filter.llm_chain.prompt"
   ]
  },
  {
   "cell_type": "code",
   "execution_count": 29,
   "metadata": {},
   "outputs": [
    {
     "name": "stderr",
     "output_type": "stream",
     "text": [
      "/opt/anaconda3/lib/python3.11/site-packages/langchain/chains/llm.py:316: UserWarning: The predict_and_parse method is deprecated, instead pass an output parser directly to LLMChain.\n",
      "  warnings.warn(\n",
      "/opt/anaconda3/lib/python3.11/site-packages/langchain/chains/llm.py:316: UserWarning: The predict_and_parse method is deprecated, instead pass an output parser directly to LLMChain.\n",
      "  warnings.warn(\n",
      "/opt/anaconda3/lib/python3.11/site-packages/langchain/chains/llm.py:316: UserWarning: The predict_and_parse method is deprecated, instead pass an output parser directly to LLMChain.\n",
      "  warnings.warn(\n",
      "/opt/anaconda3/lib/python3.11/site-packages/langchain/chains/llm.py:316: UserWarning: The predict_and_parse method is deprecated, instead pass an output parser directly to LLMChain.\n",
      "  warnings.warn(\n",
      "/opt/anaconda3/lib/python3.11/site-packages/langchain/chains/llm.py:316: UserWarning: The predict_and_parse method is deprecated, instead pass an output parser directly to LLMChain.\n",
      "  warnings.warn(\n"
     ]
    },
    {
     "data": {
      "text/plain": [
       "[Document(page_content=\"includes our first-party retail and our FBA sales and it grew nearly 40% over 2016. So we're very pleased with those results and happy with the fundamentals of the business from that perspective\", metadata={'source': 'Amazon_Transcript.txt'}),\n",
       " Document(page_content=\"units, the amount going through our fulfillment centers and which essentially includes our first-party retail and our FBA sales and it grew nearly 40% over 2016. So we're very pleased with those\", metadata={'source': 'Amazon_Transcript.txt'})]"
      ]
     },
     "execution_count": 29,
     "metadata": {},
     "output_type": "execute_result"
    }
   ],
   "source": [
    "compression_retriever = ContextualCompressionRetriever(base_compressor = filter,\n",
    "                                                       base_retriever=retriever)\n",
    "\n",
    "compression_doc = compression_retriever.get_relevant_documents(\"what is the profits of the amazon?\")\n",
    "compression_doc"
   ]
  },
  {
   "cell_type": "code",
   "execution_count": null,
   "metadata": {},
   "outputs": [],
   "source": []
  }
 ],
 "metadata": {
  "kernelspec": {
   "display_name": "base",
   "language": "python",
   "name": "python3"
  },
  "language_info": {
   "codemirror_mode": {
    "name": "ipython",
    "version": 3
   },
   "file_extension": ".py",
   "mimetype": "text/x-python",
   "name": "python",
   "nbconvert_exporter": "python",
   "pygments_lexer": "ipython3",
   "version": "3.11.7"
  }
 },
 "nbformat": 4,
 "nbformat_minor": 2
}
