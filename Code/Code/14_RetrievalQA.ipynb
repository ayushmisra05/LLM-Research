{
 "cells": [
  {
   "cell_type": "markdown",
   "metadata": {},
   "source": [
    "##### Load Package"
   ]
  },
  {
   "cell_type": "code",
   "execution_count": 18,
   "metadata": {},
   "outputs": [],
   "source": [
    "from langchain_openai import OpenAI\n",
    "from langchain.chains import RetrievalQA\n",
    "from langchain.vectorstores import FAISS\n",
    "from langchain_openai import OpenAIEmbeddings\n",
    "from langchain.schema import Document\n",
    "\n",
    "import os\n",
    "from dotenv import load_dotenv"
   ]
  },
  {
   "cell_type": "markdown",
   "metadata": {},
   "source": [
    "##### Set Up Environment "
   ]
  },
  {
   "cell_type": "code",
   "execution_count": 19,
   "metadata": {},
   "outputs": [],
   "source": [
    "load_dotenv(dotenv_path = \"../Key/.env\")\n",
    "OPENAI_API_KEY = os.environ.get(\"OPENAI_API_KEY\")\n",
    "os.environ[\"OPENAI_API_KEY\"] = OPENAI_API_KEY"
   ]
  },
  {
   "cell_type": "markdown",
   "metadata": {},
   "source": [
    "# Build A RetrieverQA"
   ]
  },
  {
   "cell_type": "code",
   "execution_count": 20,
   "metadata": {},
   "outputs": [],
   "source": [
    "embeddings = OpenAIEmbeddings()\n",
    "llm = OpenAI(model_name = \"gpt-3.5-turbo-instruct\",\n",
    "             temperature = 0.7\n",
    "             )"
   ]
  },
  {
   "cell_type": "code",
   "execution_count": 21,
   "metadata": {},
   "outputs": [],
   "source": [
    "speech = '''\n",
    "Chinese New Year or the Spring Festival (see also § Names) is a festival that celebrates the beginning of a new year on the traditional lunisolar Chinese calendar. \n",
    "Marking the end of winter and the beginning of spring, observances traditionally take place from Chinese New Year's Eve, the evening preceding the first day of the year, to the Lantern Festival, held on the 15th day of the year. \n",
    "The first day of Chinese New Year begins on the new moon that appears between 21 January and 20 February.\n",
    "Chinese New Year is one of the most important holidays in Chinese culture. \n",
    "It has influenced similar celebrations in other cultures, commonly referred to collectively as Lunar New Year, such as the Losar of Tibet, the Tết of Vietnam, the Korean New Year, and the Ryukyu New Year. \n",
    "It is also celebrated worldwide in regions and countries that house significant Overseas Chinese or Sinophone populations, especially in Southeast Asia. \n",
    "These include Singapore, Brunei, Cambodia, Indonesia, Malaysia, Myanmar,the Philippines,Thailand, and Vietnam. \n",
    "It is also prominent beyond Asia, especially in Australia, Canada, France, Mauritius, New Zealand, Peru, South Africa, the United Kingdom, and the United States, as well as in many European countries.\n",
    "The Chinese New Year is associated with several myths and customs. \n",
    "The festival was traditionally a time to honour deities as well as ancestors.\n",
    "Within China, regional customs and traditions concerning the celebration of the New Year vary widely, and the evening preceding the New Year's Day is frequently regarded as an occasion for Chinese families to gather for the annual reunion dinner. \n",
    "It is also a tradition for every family to thoroughly clean their house, in order to sweep away any ill fortune and to make way for incoming good luck. \n",
    "Another practiced custom is the decoration of windows and doors with red paper-cuts and couplets. \n",
    "Popular themes among these paper-cuts and couplets include good fortune or happiness, wealth, and longevity. \n",
    "Other activities include lighting firecrackers and giving money in red envelopes.\n",
    "'''"
   ]
  },
  {
   "cell_type": "code",
   "execution_count": 22,
   "metadata": {},
   "outputs": [],
   "source": [
    "document = Document(page_content= speech)"
   ]
  },
  {
   "cell_type": "code",
   "execution_count": 23,
   "metadata": {},
   "outputs": [],
   "source": [
    "xb = FAISS.from_documents([document], embeddings)"
   ]
  },
  {
   "cell_type": "code",
   "execution_count": 24,
   "metadata": {},
   "outputs": [],
   "source": [
    "qa = RetrievalQA.from_chain_type(llm = llm,\n",
    "                                 chain_type = \"stuff\",\n",
    "                                 retriever = xb.as_retriever())"
   ]
  },
  {
   "cell_type": "code",
   "execution_count": 25,
   "metadata": {},
   "outputs": [
    {
     "data": {
      "text/plain": [
       "{'query': 'How long is the duration of this festival?',\n",
       " 'result': \" The festival traditionally takes place from Chinese New Year's Eve to the Lantern Festival, which is held on the 15th day of the year. This means it lasts for 15 days.\"}"
      ]
     },
     "execution_count": 25,
     "metadata": {},
     "output_type": "execute_result"
    }
   ],
   "source": [
    "query = \"How long is the duration of this festival?\"\n",
    "\n",
    "qa.invoke(query)"
   ]
  },
  {
   "cell_type": "code",
   "execution_count": null,
   "metadata": {},
   "outputs": [],
   "source": []
  }
 ],
 "metadata": {
  "kernelspec": {
   "display_name": "Python 3",
   "language": "python",
   "name": "python3"
  },
  "language_info": {
   "codemirror_mode": {
    "name": "ipython",
    "version": 3
   },
   "file_extension": ".py",
   "mimetype": "text/x-python",
   "name": "python",
   "nbconvert_exporter": "python",
   "pygments_lexer": "ipython3",
   "version": "3.12.2"
  }
 },
 "nbformat": 4,
 "nbformat_minor": 2
}
