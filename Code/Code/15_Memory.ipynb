{
 "cells": [
  {
   "cell_type": "markdown",
   "metadata": {},
   "source": [
    "##### Load Package"
   ]
  },
  {
   "cell_type": "code",
   "execution_count": 5,
   "metadata": {},
   "outputs": [],
   "source": [
    "from langchain_openai import OpenAI\n",
    "from langchain.prompts import PromptTemplate\n",
    "from langchain.chains import LLMChain\n",
    "from langchain.memory import ConversationBufferMemory\n",
    "from langchain.memory import ChatMessageHistory\n",
    "from langchain_openai import ChatOpenAI\n",
    "\n",
    "import os\n",
    "from dotenv import load_dotenv"
   ]
  },
  {
   "cell_type": "markdown",
   "metadata": {},
   "source": [
    "##### Set Up Environment "
   ]
  },
  {
   "cell_type": "code",
   "execution_count": 6,
   "metadata": {},
   "outputs": [],
   "source": [
    "load_dotenv(dotenv_path = \"../Key/.env\")\n",
    "OPENAI_API_KEY = os.environ.get(\"OPENAI_API_KEY\")\n",
    "os.environ[\"OPENAI_API_KEY\"] = OPENAI_API_KEY"
   ]
  },
  {
   "cell_type": "markdown",
   "metadata": {},
   "source": [
    "# Add Memory Manually"
   ]
  },
  {
   "cell_type": "code",
   "execution_count": 13,
   "metadata": {},
   "outputs": [],
   "source": [
    "chat = ChatOpenAI()\n",
    "history = ChatMessageHistory()"
   ]
  },
  {
   "cell_type": "code",
   "execution_count": 14,
   "metadata": {},
   "outputs": [
    {
     "name": "stdout",
     "output_type": "stream",
     "text": [
      "\n",
      "Human: what is the capital of China?\n",
      "AI: beijing\n",
      "Human: what is the capital of france?\n"
     ]
    }
   ],
   "source": [
    "print(history)\n",
    "\n",
    "history.add_user_message(\"what is the capital of China?\")\n",
    "history.add_ai_message(\"beijing\")\n",
    "history.add_user_message(\"what is the capital of france?\")\n",
    "\n",
    "print(history)"
   ]
  },
  {
   "cell_type": "code",
   "execution_count": 20,
   "metadata": {},
   "outputs": [
    {
     "data": {
      "text/plain": [
       "AIMessage(content='paris', response_metadata={'token_usage': {'completion_tokens': 2, 'prompt_tokens': 31, 'total_tokens': 33}, 'model_name': 'gpt-3.5-turbo', 'system_fingerprint': None, 'finish_reason': 'stop', 'logprobs': None}, id='run-7235edbe-4d39-492a-8e28-762b82964823-0')"
      ]
     },
     "execution_count": 20,
     "metadata": {},
     "output_type": "execute_result"
    }
   ],
   "source": [
    "chat.invoke(history.messages)"
   ]
  },
  {
   "cell_type": "markdown",
   "metadata": {},
   "source": [
    "# Add Memory Into A Chain"
   ]
  },
  {
   "cell_type": "code",
   "execution_count": 6,
   "metadata": {},
   "outputs": [],
   "source": [
    "llm = OpenAI(model_name = \"gpt-3.5-turbo-instruct\",\n",
    "             temperature = 0.7)"
   ]
  },
  {
   "cell_type": "code",
   "execution_count": 10,
   "metadata": {},
   "outputs": [
    {
     "name": "stdout",
     "output_type": "stream",
     "text": [
      "None\n"
     ]
    }
   ],
   "source": [
    "prompt_template_name = PromptTemplate(\n",
    "    template = \"I want to open a restaurant for {area} food. suggest a name for this restaurant.\",\n",
    "    input_variables = [\"area\"]\n",
    ")\n",
    "\n",
    "chain_name = LLMChain(llm = llm, prompt = prompt_template_name)\n",
    "\n",
    "chain_name.invoke(\"chinese\")\n",
    "\n",
    "print(chain_name.memory)"
   ]
  },
  {
   "cell_type": "code",
   "execution_count": 14,
   "metadata": {},
   "outputs": [
    {
     "name": "stdout",
     "output_type": "stream",
     "text": [
      "{'area': 'chinese', 'history': '', 'text': '\\n\\n1. Dragon Wok\\n2. Golden Lotus\\n3. Red Lantern\\n4. Jade Palace\\n5. Bamboo Garden\\n6. Ming Dynasty\\n7. Silk Road Kitchen\\n8. The Great Wall\\n9. Blossom Kitchen\\n10. Orient Express\\n11. Dynasty Delight\\n12. Happy Wok\\n13. China Bistro\\n14. Dragon Palace\\n15. Forbidden City Kitchen\\n16. Panda Garden\\n17. Dynasty Dining\\n18. Wok & Roll\\n19. Lotus Garden\\n20. Eastern Dragon'}\n",
      "{'area': 'America', 'history': 'Human: chinese\\nAI: \\n\\n1. Dragon Wok\\n2. Golden Lotus\\n3. Red Lantern\\n4. Jade Palace\\n5. Bamboo Garden\\n6. Ming Dynasty\\n7. Silk Road Kitchen\\n8. The Great Wall\\n9. Blossom Kitchen\\n10. Orient Express\\n11. Dynasty Delight\\n12. Happy Wok\\n13. China Bistro\\n14. Dragon Palace\\n15. Forbidden City Kitchen\\n16. Panda Garden\\n17. Dynasty Dining\\n18. Wok & Roll\\n19. Lotus Garden\\n20. Eastern Dragon', 'text': '\\n\\n\"Stars and Stripes Diner\"'}\n",
      "Human: chinese\n",
      "AI: \n",
      "\n",
      "1. Dragon Wok\n",
      "2. Golden Lotus\n",
      "3. Red Lantern\n",
      "4. Jade Palace\n",
      "5. Bamboo Garden\n",
      "6. Ming Dynasty\n",
      "7. Silk Road Kitchen\n",
      "8. The Great Wall\n",
      "9. Blossom Kitchen\n",
      "10. Orient Express\n",
      "11. Dynasty Delight\n",
      "12. Happy Wok\n",
      "13. China Bistro\n",
      "14. Dragon Palace\n",
      "15. Forbidden City Kitchen\n",
      "16. Panda Garden\n",
      "17. Dynasty Dining\n",
      "18. Wok & Roll\n",
      "19. Lotus Garden\n",
      "20. Eastern Dragon\n",
      "Human: America\n",
      "AI: \n",
      "\n",
      "\"Stars and Stripes Diner\"\n"
     ]
    }
   ],
   "source": [
    "memory = ConversationBufferMemory()\n",
    "\n",
    "chain_name = LLMChain(llm = llm, \n",
    "                      prompt = prompt_template_name, \n",
    "                      memory = memory)\n",
    "\n",
    "print(chain_name.invoke(\"chinese\"))\n",
    "print(chain_name.invoke(\"America\"))\n",
    "\n",
    "print(chain_name.memory.buffer)"
   ]
  },
  {
   "cell_type": "code",
   "execution_count": null,
   "metadata": {},
   "outputs": [],
   "source": []
  }
 ],
 "metadata": {
  "kernelspec": {
   "display_name": "Python 3",
   "language": "python",
   "name": "python3"
  },
  "language_info": {
   "codemirror_mode": {
    "name": "ipython",
    "version": 3
   },
   "file_extension": ".py",
   "mimetype": "text/x-python",
   "name": "python",
   "nbconvert_exporter": "python",
   "pygments_lexer": "ipython3",
   "version": "3.12.2"
  }
 },
 "nbformat": 4,
 "nbformat_minor": 2
}
